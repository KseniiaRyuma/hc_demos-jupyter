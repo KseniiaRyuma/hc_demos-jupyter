{
 "cells": [
  {
   "cell_type": "markdown",
   "id": "85fc3387-5daf-487d-a657-9fe0b85e217e",
   "metadata": {},
   "source": [
    "# Vault Auto Unseal and Seal Wrap with SoftHSM\n",
    "\n",
    "> THIS IS NOT A PRODUCTION SETUP BUT A DEMO: THIS IS NOT SAFE DO NOT USE\n",
    "SOFTHSM TO STORE PRODUCTION KEYS: IT IS NOT SAFE DO NOT USE PKCS11PROXY IN\n",
    "PRODUCTION: IT IS NOT SAFE\n",
    "\n",
    "## Overview\n",
    "\n",
    "This is a brief guide to exploring Vault Enterprise+HSM with SoftHSMv2, an open source software-based HSM that uses the PKCS #11 standard interface. In the guide, you’ll learn how to configure and bootstrap a minimal Vault instance that uses your newly installed and configured SoftHSM installation.\n",
    "\n",
    "## Business Value of Capability\n",
    "\n",
    "* Leverage an existing investment in an HSM\n",
    "* Reduce risk of losing the ability to access your Vault\n",
    "\n",
    "## Prerequisites\n",
    "* **Vault Enterprise with Support for HSM (the regular Enterprise will fail**)\n",
    "* Docker setup\n",
    "* A Hardware Security Module (HSM) - we use SoftHSM as a proxy\n",
    "\n",
    "### Setup Your HSM Container"
   ]
  },
  {
   "cell_type": "code",
   "execution_count": 1,
   "id": "f15f7572-1eba-42cb-b6d1-e759b4ade577",
   "metadata": {},
   "outputs": [
    {
     "name": "stdout",
     "output_type": "stream",
     "text": [
      "/Users/pephan/OneDrive/code/vault_transit_test/hc_demos-jupyter/Vault/config/vault/\n",
      "\u001b[?2004h"
     ]
    },
    {
     "ename": "",
     "evalue": "1",
     "output_type": "error",
     "traceback": []
    }
   ],
   "source": [
    "# env\n",
    "export WORKDIR=$(pwd)/config/vault/\n",
    "echo $WORKDIR"
   ]
  },
  {
   "cell_type": "code",
   "execution_count": 2,
   "id": "17379829-e196-4100-9806-77307c56c17d",
   "metadata": {},
   "outputs": [
    {
     "name": "stdout",
     "output_type": "stream",
     "text": [
      "\u001b[?2004h\u001b[?2004l\u001b[?2004l\u001b[?2004l\u001b[?2004l\u001b[?2004l\u001b[?2004l"
     ]
    },
    {
     "ename": "",
     "evalue": "1",
     "output_type": "error",
     "traceback": []
    }
   ],
   "source": [
    "## tokendirectory\n",
    "mkdir -p $WORKDIR/hsm\n",
    "\n",
    "## install vault binary here\n",
    "mkdir -p $WORKDIR/hsm/bin\n",
    "mkdir -p $WORKDIR/hsm/tokens\n",
    "mkdir -p $WORKDIR/hsm/config"
   ]
  },
  {
   "cell_type": "code",
   "execution_count": 19,
   "id": "1b68afbd-c8c0-4628-82e7-c45c30c28313",
   "metadata": {},
   "outputs": [],
   "source": [
    "## we create a common network\n",
    "docker network create hsmnetwork && docker network ls"
   ]
  },
  {
   "cell_type": "code",
   "execution_count": 19,
   "id": "dfbaf25b-c2d6-484b-8c5e-7c41e4431177",
   "metadata": {},
   "outputs": [
    {
     "name": "stdout",
     "output_type": "stream",
     "text": [
      "Error response from daemon: network with name hsmnetwork already exists\n",
      "SoftHSMh\u001b[?2004l\u001b[?2004l\u001b[?2004l\n",
      "SoftHSMh\u001b[?2004l\n",
      "ab6615218e147b2a0f1799a87eadf1c89ff6dfb10ee98b6f6e202b33f643b2f8\u001b[?2004l\u001b[?2004l\n",
      "\u001b[?2004h\u001b[?2004l\u001b[?2004l\u001b[?2004l"
     ]
    },
    {
     "ename": "",
     "evalue": "1",
     "output_type": "error",
     "traceback": []
    }
   ],
   "source": [
    "## setup softhsm container instance starting from a basic ubuntu instance\n",
    "docker stop SoftHSM || true\n",
    "docker rm SoftHSM\n",
    "docker run \\\n",
    "    --rm -d \\\n",
    "    --name SoftHSM \\\n",
    "    --hostname HSM \\\n",
    "    --network hsmnetwork \\\n",
    "    -p 5666:5666 \\\n",
    "    -v $WORKDIR/hsm/config:/config \\\n",
    "    -v $WORKDIR/hsm/tokens:/var/lib/softhsm/tokens \\\n",
    "    bitnami/nginx:latest\n",
    "\n",
    "## start the HRSM\n",
    "# docker start SoftHSM"
   ]
  },
  {
   "cell_type": "markdown",
   "id": "856a07bb-2f11-4cd8-8473-45487c1abb26",
   "metadata": {},
   "source": [
    "## Build Scripts\n",
    "\n",
    "There are two scripts:\n",
    "\n",
    "* `setup_hsm.sh`: This will install the correct packages, and initialize a virtual slot we will use for Vault\n",
    "* `setup_vault.sh`: This will download the trial Vault Enterprise HSM binary and configure it with systemd"
   ]
  },
  {
   "cell_type": "markdown",
   "id": "94ab7265-7132-4e55-953a-afebbab79f9c",
   "metadata": {},
   "source": [
    "### SoftHSM - Script"
   ]
  },
  {
   "cell_type": "code",
   "execution_count": 167,
   "id": "646808c3-ea6d-40dc-aa53-62bfabd71f5b",
   "metadata": {},
   "outputs": [
    {
     "name": "stdout",
     "output_type": "stream",
     "text": [
      "## change the file permissions4l\u001b[?2004l\u001b[?2004l\u001b[?2004l\u001b[?2004l\u001b[?2004l\u001b[?2004l\u001b[?2004l\u001b[?2004l\u001b[?2004l\u001b[?2004l\u001b[?2004l\u001b[?2004l\u001b[?2004l\u001b[?2004l\u001b[?2004l\u001b[?2004l\u001b[?2004l\u001b[?2004l\u001b[?2004l\u001b[?2004l\u001b[?2004l\u001b[?2004l\u001b[?2004l\u001b[?2004l\u001b[?2004l\u001b[?2004l\u001b[?2004l\u001b[?2004l\u001b[?2004l\u001b[?2004l\u001b[?2004l\u001b[?2004l\u001b[?2004l\u001b[?2004l\u001b[?2004l\u001b[?2004l\u001b[?2004l\u001b[?2004l\u001b[?2004l\u001b[?2004l\u001b[?2004l\u001b[?2004l\u001b[?2004l\u001b[?2004l\u001b[?2004l\u001b[?2004l\u001b[?2004l\n",
      "\u001b[?2004h\u001b[?2004l"
     ]
    },
    {
     "ename": "",
     "evalue": "1",
     "output_type": "error",
     "traceback": []
    }
   ],
   "source": [
    "## we need to install a bunch of items\n",
    "cat << EOF > $WORKDIR/hsm/config/setup_hsm.sh\n",
    "#!/bin/sh\n",
    "echo \"--------setting up the HSM instance------------\"\n",
    "apt-get update -y\n",
    "\n",
    "## install deps\n",
    "echo \":... installing proxy deps before build\"\n",
    "apt-get install -y \\\n",
    "    ca-certificates \\\n",
    "    git-core \\\n",
    "    build-essential \\\n",
    "    cmake \\\n",
    "    libltdl-dev \\\n",
    "    libssl-dev \\\n",
    "    libseccomp-dev\n",
    "\n",
    "## get the sources from github\n",
    "echo \":... pulling proxy code from github\"\n",
    "git clone https://github.com/SUNET/pkcs11-proxy\n",
    "\n",
    "## build pkcs11-proxy\n",
    "echo \":...building the proxy...\"\n",
    "cd pkcs11-proxy && \\\n",
    "    cmake . && \\\n",
    "    make && \\\n",
    "    make install\n",
    "\n",
    "## install softhsm2\n",
    "echo \":....installing softhsm v2 and pkcs11-tool\"\n",
    "apt-get install -y \\\n",
    "    softhsm2 \\\n",
    "    opensc \\\n",
    "    gnutls-bin \\\n",
    "    libengine-pkcs11-openssl1.1\n",
    "\n",
    "## install an initial token\n",
    "echo \":...Initialize token in slot 0 for use with Vault.\"\n",
    "softhsm2-util --init-token --slot 0 --label \"main\" \\\n",
    "    --pin \"1234567890\" \\\n",
    "    --so-pin \"0987654321\"\n",
    "echo \":...launching proxy\"\n",
    "\n",
    "## launch the proxy\n",
    "export PKCS11_DAEMON_SOCKET=\"tcp://0.0.0.0:5657\"\n",
    "/usr/local/bin/pkcs11-daemon /usr/lib/softhsm/libsofthsm2.so &\n",
    "\n",
    "echo \"--------setup complete------------\"\n",
    "EOF\n",
    "\n",
    "printf \"${GREEN}## change the file permissions${NC}\\n\"\n",
    "chmod 755 $WORKDIR/hsm/config/setup_hsm.sh"
   ]
  },
  {
   "cell_type": "markdown",
   "id": "410adf16-e648-45c8-a329-9fa5b52fb2ed",
   "metadata": {},
   "source": [
    "### Vault - Script"
   ]
  },
  {
   "cell_type": "code",
   "execution_count": 6,
   "id": "5f461335-8b8e-4524-873e-6f81f9064d2f",
   "metadata": {},
   "outputs": [
    {
     "name": "stdout",
     "output_type": "stream",
     "text": [
      "\u001b[?2004h\u001b[?2004l\u001b[?2004l\u001b[?2004l\u001b[?2004l\u001b[?2004l\u001b[?2004l\u001b[?2004l\u001b[?2004l\u001b[?2004l\u001b[?2004l\u001b[?2004l\u001b[?2004l\u001b[?2004l\u001b[?2004l\u001b[?2004l\u001b[?2004l\u001b[?2004l\u001b[?2004l\u001b[?2004l\u001b[?2004l\u001b[?2004l\u001b[?2004l\u001b[?2004l\u001b[?2004l\u001b[?2004l\u001b[?2004l\u001b[?2004l\u001b[?2004l\u001b[?2004l\u001b[?2004l\u001b[?2004l\u001b[?2004l\u001b[?2004l\u001b[?2004l\u001b[?2004l\u001b[?2004l\u001b[?2004l\u001b[?2004l\u001b[?2004l\u001b[?2004l\u001b[?2004l\u001b[?2004l\u001b[?2004l\u001b[?2004l\u001b[?2004l\u001b[?2004l\u001b[?2004l\u001b[?2004l\u001b[?2004l\u001b[?2004l\u001b[?2004l"
     ]
    },
    {
     "ename": "",
     "evalue": "1",
     "output_type": "error",
     "traceback": []
    }
   ],
   "source": [
    "## we need to install a bunch of items\n",
    "cat << EOF > $WORKDIR/hsm/config/setup_vault.sh\n",
    "#!/bin/sh\n",
    "\n",
    "echo \"--------setting up the Vault instance------------\"\n",
    "echo \":...setup vault data directories\"\n",
    "\n",
    "mkdir -p /home/vault\n",
    "mkdir -p /home/vault/data\n",
    "chmod 777 /home/vault\n",
    "chmod 777 /home/vault/data\n",
    "\n",
    "## reaching\n",
    "export PKCS11_PROXY_SOCKET=\"tcp://HSM:5657\"\n",
    "export VAULT_HSM_LIB=\"/usr/local/lib/libpkcs11-proxy.so\"\n",
    "export VAULT_HSM_TYPE=\"pkcs11\"\n",
    "\n",
    "## install deps\n",
    "echo \":... installing proxy deps before build\"\n",
    "apt-get update -y && \\\n",
    "apt-get install -y \\\n",
    "    ca-certificates \\\n",
    "    git-core \\\n",
    "    build-essential \\\n",
    "    cmake \\\n",
    "    libltdl-dev \\\n",
    "    libssl-dev \\\n",
    "    libseccomp-dev\n",
    "\n",
    "## get the sources from github\n",
    "echo \":... pulling proxy code from github\"\n",
    "git clone https://github.com/SUNET/pkcs11-proxy\n",
    "\n",
    "## build pkcs11-proxy\n",
    "echo \":...building the proxy...\"\n",
    "cd pkcs11-proxy && \\\n",
    "    cmake . && \\\n",
    "    make && \\\n",
    "    make install\n",
    "\n",
    "## install pkcs11 tools...no need to install softhsm\n",
    "echo \":....installing pkcs11-tool\"\n",
    "apt-get install -y \\\n",
    "    opensc \\\n",
    "    gnutls-bin \\\n",
    "    libengine-pkcs11-openssl1.1\n",
    "\n",
    "echo \":...test out that you can reach the HSM slot/token\"\n",
    "pkcs11-tool --module=/usr/local/lib/libpkcs11-proxy.so -L\n",
    "\n",
    "echo \"--------setup complete------------\"\n",
    "EOF\n",
    "\n",
    "## change the file permissions\n",
    "chmod 755 $WORKDIR/hsm/config/setup_vault.sh"
   ]
  },
  {
   "cell_type": "markdown",
   "id": "dc582890-d1fd-446d-95c7-f37165ced93d",
   "metadata": {},
   "source": [
    "* PKCS related tools such as `pkcs11-tool` for debugging issues. This tool is installed as part of the `opensc` package."
   ]
  },
  {
   "cell_type": "markdown",
   "id": "03aa0062-e1f9-4a58-aafd-fadb4992a71a",
   "metadata": {},
   "source": [
    "## Setup the HSM\n",
    "\n",
    "Let's run the script on the HSM to install all necessary libs"
   ]
  },
  {
   "cell_type": "code",
   "execution_count": 8,
   "id": "0c1c4257-8117-4986-8e1d-1c2a3bed31e0",
   "metadata": {
    "collapsed": true,
    "jupyter": {
     "outputs_hidden": true
    },
    "tags": []
   },
   "outputs": [
    {
     "name": "stdout",
     "output_type": "stream",
     "text": [
      "--------setting up the HSM instance------------\n",
      "Get:1 http://deb.debian.org/debian buster InRelease [122 kB]\n",
      "Get:2 http://security.debian.org buster/updates InRelease [65.4 kB]\n",
      "Get:3 http://deb.debian.org/debian buster/main amd64 Packages [10.7 MB]\n",
      "Get:4 http://security.debian.org buster/updates/main amd64 Packages [368 kB]\n",
      "Fetched 11.3 MB in 1s (8627 kB/s)\n",
      "Reading package lists...\n",
      ":... installing proxy deps before build\n",
      "Reading package lists...\n",
      "Building dependency tree...\n",
      "Reading state information...\n",
      "ca-certificates is already the newest version (20200601~deb10u2).\n",
      "The following additional packages will be installed:\n",
      "  autoconf automake autotools-dev binutils binutils-common\n",
      "  binutils-x86-64-linux-gnu bzip2 cmake-data cpp cpp-8 dirmngr dpkg-dev\n",
      "  fakeroot file g++ g++-8 gcc gcc-8 git-man gnupg gnupg-l10n gnupg-utils gpg\n",
      "  gpg-agent gpg-wks-client gpg-wks-server gpgconf gpgsm less\n",
      "  libalgorithm-diff-perl libalgorithm-diff-xs-perl libalgorithm-merge-perl\n",
      "  libarchive13 libasan5 libassuan0 libatomic1 libbinutils libbsd0 libc-dev-bin\n",
      "  libc6-dev libcc1-0 libcurl3-gnutls libdpkg-perl libedit2 liberror-perl\n",
      "  libexpat1 libfakeroot libfile-fcntllock-perl libgcc-8-dev libgdbm-compat4\n",
      "  libgdbm6 libgomp1 libicu63 libisl19 libitm1 libjsoncpp1 libksba8\n",
      "  liblocale-gettext-perl liblsan0 libltdl7 libmagic-mgc libmagic1 libmpc3\n",
      "  libmpfr6 libmpx2 libnpth0 libpcre2-8-0 libperl5.28 libquadmath0 libreadline7\n",
      "  librhash0 libsigsegv2 libsqlite3-0 libstdc++-8-dev libtool libtsan0\n",
      "  libubsan1 libuv1 libx11-6 libx11-data libxau6 libxcb1 libxdmcp6 libxext6\n",
      "  libxml2 libxmuu1 linux-libc-dev m4 make manpages manpages-dev netbase\n",
      "  openssh-client patch perl perl-modules-5.28 pinentry-curses readline-common\n",
      "  xauth xz-utils\n",
      "Suggested packages:\n",
      "  autoconf-archive gnu-standards autoconf-doc gettext binutils-doc bzip2-doc\n",
      "  cmake-doc ninja-build cpp-doc gcc-8-locales dbus-user-session libpam-systemd\n",
      "  pinentry-gnome3 tor debian-keyring g++-multilib g++-8-multilib gcc-8-doc\n",
      "  libstdc++6-8-dbg gcc-multilib flex bison gdb gcc-doc gcc-8-multilib\n",
      "  libgcc1-dbg libgomp1-dbg libitm1-dbg libatomic1-dbg libasan5-dbg\n",
      "  liblsan0-dbg libtsan0-dbg libubsan1-dbg libmpx2-dbg libquadmath0-dbg\n",
      "  gettext-base git-daemon-run | git-daemon-sysvinit git-doc git-el git-email\n",
      "  git-gui gitk gitweb git-cvs git-mediawiki git-svn parcimonie xloadimage\n",
      "  scdaemon lrzip glibc-doc sensible-utils bzr gdbm-l10n libtool-doc seccomp\n",
      "  libssl-doc libstdc++-8-doc gfortran | fortran95-compiler gcj-jdk m4-doc\n",
      "  make-doc man-browser keychain libpam-ssh monkeysphere ssh-askpass ed\n",
      "  diffutils-doc perl-doc libterm-readline-gnu-perl\n",
      "  | libterm-readline-perl-perl libb-debug-perl liblocale-codes-perl\n",
      "  pinentry-doc readline-doc\n",
      "The following NEW packages will be installed:\n",
      "  autoconf automake autotools-dev binutils binutils-common\n",
      "  binutils-x86-64-linux-gnu build-essential bzip2 cmake cmake-data cpp cpp-8\n",
      "  dirmngr dpkg-dev fakeroot file g++ g++-8 gcc gcc-8 git git-man gnupg\n",
      "  gnupg-l10n gnupg-utils gpg gpg-agent gpg-wks-client gpg-wks-server gpgconf\n",
      "  gpgsm less libalgorithm-diff-perl libalgorithm-diff-xs-perl\n",
      "  libalgorithm-merge-perl libarchive13 libasan5 libassuan0 libatomic1\n",
      "  libbinutils libbsd0 libc-dev-bin libc6-dev libcc1-0 libcurl3-gnutls\n",
      "  libdpkg-perl libedit2 liberror-perl libexpat1 libfakeroot\n",
      "  libfile-fcntllock-perl libgcc-8-dev libgdbm-compat4 libgdbm6 libgomp1\n",
      "  libicu63 libisl19 libitm1 libjsoncpp1 libksba8 liblocale-gettext-perl\n",
      "  liblsan0 libltdl-dev libltdl7 libmagic-mgc libmagic1 libmpc3 libmpfr6\n",
      "  libmpx2 libnpth0 libpcre2-8-0 libperl5.28 libquadmath0 libreadline7\n",
      "  librhash0 libseccomp-dev libsigsegv2 libsqlite3-0 libssl-dev libstdc++-8-dev\n",
      "  libtool libtsan0 libubsan1 libuv1 libx11-6 libx11-data libxau6 libxcb1\n",
      "  libxdmcp6 libxext6 libxml2 libxmuu1 linux-libc-dev m4 make manpages\n",
      "  manpages-dev netbase openssh-client patch perl perl-modules-5.28\n",
      "  pinentry-curses readline-common xauth xz-utils\n",
      "0 upgraded, 106 newly installed, 0 to remove and 0 not upgraded.\n",
      "Need to get 95.9 MB of archives.\n",
      "After this operation, 382 MB of additional disk space will be used.\n",
      "Get:1 http://deb.debian.org/debian buster/main amd64 perl-modules-5.28 all 5.28.1-6+deb10u1 [2873 kB]\n",
      "Get:2 http://deb.debian.org/debian buster/main amd64 libgdbm6 amd64 1.18.1-4 [64.7 kB]\n",
      "Get:3 http://deb.debian.org/debian buster/main amd64 libgdbm-compat4 amd64 1.18.1-4 [44.1 kB]\n",
      "Get:4 http://deb.debian.org/debian buster/main amd64 libperl5.28 amd64 5.28.1-6+deb10u1 [3894 kB]\n",
      "Get:5 http://deb.debian.org/debian buster/main amd64 perl amd64 5.28.1-6+deb10u1 [204 kB]\n",
      "Get:6 http://deb.debian.org/debian buster/main amd64 liblocale-gettext-perl amd64 1.07-3+b4 [18.9 kB]\n",
      "Get:7 http://deb.debian.org/debian buster/main amd64 less amd64 487-0.1+b1 [129 kB]\n",
      "Get:8 http://deb.debian.org/debian buster/main amd64 netbase all 5.6 [19.4 kB]\n",
      "Get:9 http://deb.debian.org/debian buster/main amd64 readline-common all 7.0-5 [70.6 kB]\n",
      "Get:10 http://deb.debian.org/debian buster/main amd64 bzip2 amd64 1.0.6-9.2~deb10u1 [48.4 kB]\n",
      "Get:11 http://deb.debian.org/debian buster/main amd64 libmagic-mgc amd64 1:5.35-4+deb10u2 [242 kB]\n",
      "Get:12 http://deb.debian.org/debian buster/main amd64 libmagic1 amd64 1:5.35-4+deb10u2 [118 kB]\n",
      "Get:13 http://deb.debian.org/debian buster/main amd64 file amd64 1:5.35-4+deb10u2 [66.4 kB]\n",
      "Get:14 http://deb.debian.org/debian buster/main amd64 manpages all 4.16-2 [1295 kB]\n",
      "Get:15 http://deb.debian.org/debian buster/main amd64 libbsd0 amd64 0.9.1-2+deb10u1 [99.5 kB]\n",
      "Get:16 http://deb.debian.org/debian buster/main amd64 libedit2 amd64 3.1-20181209-1 [94.0 kB]\n",
      "Get:17 http://deb.debian.org/debian buster/main amd64 openssh-client amd64 1:7.9p1-10+deb10u2 [782 kB]\n",
      "Get:18 http://deb.debian.org/debian buster/main amd64 xz-utils amd64 5.2.4-1 [183 kB]\n",
      "Get:19 http://deb.debian.org/debian buster/main amd64 libsigsegv2 amd64 2.12-2 [32.8 kB]\n",
      "Get:20 http://deb.debian.org/debian buster/main amd64 m4 amd64 1.4.18-2 [203 kB]\n",
      "Get:21 http://deb.debian.org/debian buster/main amd64 autoconf all 2.69-11 [341 kB]\n",
      "Get:22 http://deb.debian.org/debian buster/main amd64 autotools-dev all 20180224.1 [77.0 kB]\n",
      "Get:23 http://deb.debian.org/debian buster/main amd64 automake all 1:1.16.1-4 [771 kB]\n",
      "Get:24 http://deb.debian.org/debian buster/main amd64 binutils-common amd64 2.31.1-16 [2073 kB]\n",
      "Get:25 http://deb.debian.org/debian buster/main amd64 libbinutils amd64 2.31.1-16 [478 kB]\n",
      "Get:26 http://deb.debian.org/debian buster/main amd64 binutils-x86-64-linux-gnu amd64 2.31.1-16 [1823 kB]\n",
      "Get:27 http://deb.debian.org/debian buster/main amd64 binutils amd64 2.31.1-16 [56.8 kB]\n",
      "Get:28 http://deb.debian.org/debian buster/main amd64 libc-dev-bin amd64 2.28-10 [275 kB]\n",
      "Get:29 http://deb.debian.org/debian buster/main amd64 linux-libc-dev amd64 4.19.194-1 [1459 kB]\n",
      "Get:30 http://deb.debian.org/debian buster/main amd64 libc6-dev amd64 2.28-10 [2691 kB]\n",
      "Get:31 http://deb.debian.org/debian buster/main amd64 libisl19 amd64 0.20-2 [587 kB]\n",
      "Get:32 http://deb.debian.org/debian buster/main amd64 libmpfr6 amd64 4.0.2-1 [775 kB]\n",
      "Get:33 http://deb.debian.org/debian buster/main amd64 libmpc3 amd64 1.1.0-1 [41.3 kB]\n",
      "Get:34 http://deb.debian.org/debian buster/main amd64 cpp-8 amd64 8.3.0-6 [8914 kB]\n",
      "Get:35 http://deb.debian.org/debian buster/main amd64 cpp amd64 4:8.3.0-1 [19.4 kB]\n",
      "Get:36 http://deb.debian.org/debian buster/main amd64 libcc1-0 amd64 8.3.0-6 [46.6 kB]\n",
      "Get:37 http://deb.debian.org/debian buster/main amd64 libgomp1 amd64 8.3.0-6 [75.8 kB]\n",
      "Get:38 http://deb.debian.org/debian buster/main amd64 libitm1 amd64 8.3.0-6 [27.7 kB]\n",
      "Get:39 http://deb.debian.org/debian buster/main amd64 libatomic1 amd64 8.3.0-6 [9032 B]\n",
      "Get:40 http://deb.debian.org/debian buster/main amd64 libasan5 amd64 8.3.0-6 [362 kB]\n",
      "Get:41 http://deb.debian.org/debian buster/main amd64 liblsan0 amd64 8.3.0-6 [131 kB]\n",
      "Get:42 http://deb.debian.org/debian buster/main amd64 libtsan0 amd64 8.3.0-6 [283 kB]\n",
      "Get:43 http://deb.debian.org/debian buster/main amd64 libubsan1 amd64 8.3.0-6 [120 kB]\n",
      "Get:44 http://deb.debian.org/debian buster/main amd64 libmpx2 amd64 8.3.0-6 [11.4 kB]\n",
      "Get:45 http://deb.debian.org/debian buster/main amd64 libquadmath0 amd64 8.3.0-6 [133 kB]\n",
      "Get:46 http://deb.debian.org/debian buster/main amd64 libgcc-8-dev amd64 8.3.0-6 [2298 kB]\n",
      "Get:47 http://deb.debian.org/debian buster/main amd64 gcc-8 amd64 8.3.0-6 [9452 kB]\n",
      "Get:48 http://deb.debian.org/debian buster/main amd64 gcc amd64 4:8.3.0-1 [5196 B]\n",
      "Get:49 http://deb.debian.org/debian buster/main amd64 libstdc++-8-dev amd64 8.3.0-6 [1532 kB]\n",
      "Get:50 http://deb.debian.org/debian buster/main amd64 g++-8 amd64 8.3.0-6 [9752 kB]\n",
      "Get:51 http://deb.debian.org/debian buster/main amd64 g++ amd64 4:8.3.0-1 [1644 B]\n",
      "Get:52 http://deb.debian.org/debian buster/main amd64 make amd64 4.2.1-1.2 [341 kB]\n",
      "Get:53 http://deb.debian.org/debian buster/main amd64 libdpkg-perl all 1.19.7 [1414 kB]\n",
      "Get:54 http://deb.debian.org/debian buster/main amd64 patch amd64 2.7.6-3+deb10u1 [126 kB]\n",
      "Get:55 http://deb.debian.org/debian buster/main amd64 dpkg-dev all 1.19.7 [1773 kB]\n",
      "Get:56 http://deb.debian.org/debian buster/main amd64 build-essential amd64 12.6 [7576 B]\n",
      "Get:57 http://deb.debian.org/debian buster/main amd64 cmake-data all 3.13.4-1 [1476 kB]\n",
      "Get:58 http://deb.debian.org/debian buster/main amd64 libicu63 amd64 63.1-6+deb10u1 [8300 kB]\n",
      "Get:59 http://deb.debian.org/debian buster/main amd64 libxml2 amd64 2.9.4+dfsg1-7+deb10u2 [689 kB]\n",
      "Get:60 http://deb.debian.org/debian buster/main amd64 libarchive13 amd64 3.3.3-4+deb10u1 [313 kB]\n",
      "Get:61 http://deb.debian.org/debian buster/main amd64 libexpat1 amd64 2.2.6-2+deb10u1 [106 kB]\n",
      "Get:62 http://deb.debian.org/debian buster/main amd64 libjsoncpp1 amd64 1.7.4-3 [75.6 kB]\n",
      "Get:63 http://deb.debian.org/debian buster/main amd64 librhash0 amd64 1.3.8-1 [122 kB]\n",
      "Get:64 http://deb.debian.org/debian buster/main amd64 libuv1 amd64 1.24.1-1 [110 kB]\n",
      "Get:65 http://deb.debian.org/debian buster/main amd64 cmake amd64 3.13.4-1 [3480 kB]\n",
      "Get:66 http://deb.debian.org/debian buster/main amd64 libassuan0 amd64 2.5.2-1 [49.4 kB]\n",
      "Get:67 http://deb.debian.org/debian buster/main amd64 libreadline7 amd64 7.0-5 [151 kB]\n",
      "Get:68 http://deb.debian.org/debian buster/main amd64 gpgconf amd64 2.2.12-1+deb10u1 [510 kB]\n",
      "Get:69 http://deb.debian.org/debian buster/main amd64 libksba8 amd64 1.3.5-2 [99.7 kB]\n",
      "Get:70 http://deb.debian.org/debian buster/main amd64 libnpth0 amd64 1.6-1 [18.4 kB]\n",
      "Get:71 http://deb.debian.org/debian buster/main amd64 dirmngr amd64 2.2.12-1+deb10u1 [712 kB]\n",
      "Get:72 http://deb.debian.org/debian buster/main amd64 libfakeroot amd64 1.23-1 [45.9 kB]\n",
      "Get:73 http://deb.debian.org/debian buster/main amd64 fakeroot amd64 1.23-1 [85.8 kB]\n",
      "Get:74 http://deb.debian.org/debian buster/main amd64 libcurl3-gnutls amd64 7.64.0-4+deb10u2 [330 kB]\n",
      "Get:75 http://deb.debian.org/debian buster/main amd64 libpcre2-8-0 amd64 10.32-5 [213 kB]\n",
      "Get:76 http://deb.debian.org/debian buster/main amd64 liberror-perl all 0.17027-2 [30.9 kB]\n",
      "Get:77 http://deb.debian.org/debian buster/main amd64 git-man all 1:2.20.1-2+deb10u3 [1620 kB]\n",
      "Get:78 http://deb.debian.org/debian buster/main amd64 git amd64 1:2.20.1-2+deb10u3 [5633 kB]\n",
      "Get:79 http://deb.debian.org/debian buster/main amd64 gnupg-l10n all 2.2.12-1+deb10u1 [1010 kB]\n",
      "Get:80 http://deb.debian.org/debian buster/main amd64 gnupg-utils amd64 2.2.12-1+deb10u1 [861 kB]\n",
      "Get:81 http://deb.debian.org/debian buster/main amd64 libsqlite3-0 amd64 3.27.2-3+deb10u1 [641 kB]\n",
      "Get:82 http://deb.debian.org/debian buster/main amd64 gpg amd64 2.2.12-1+deb10u1 [865 kB]\n",
      "Get:83 http://deb.debian.org/debian buster/main amd64 pinentry-curses amd64 1.1.0-2 [64.5 kB]\n",
      "Get:84 http://deb.debian.org/debian buster/main amd64 gpg-agent amd64 2.2.12-1+deb10u1 [617 kB]\n",
      "Get:85 http://deb.debian.org/debian buster/main amd64 gpg-wks-client amd64 2.2.12-1+deb10u1 [485 kB]\n",
      "Get:86 http://deb.debian.org/debian buster/main amd64 gpg-wks-server amd64 2.2.12-1+deb10u1 [478 kB]\n",
      "Get:87 http://deb.debian.org/debian buster/main amd64 gpgsm amd64 2.2.12-1+deb10u1 [604 kB]\n",
      "Get:88 http://deb.debian.org/debian buster/main amd64 gnupg all 2.2.12-1+deb10u1 [715 kB]\n",
      "Get:89 http://deb.debian.org/debian buster/main amd64 libalgorithm-diff-perl all 1.19.03-2 [47.9 kB]\n",
      "Get:90 http://deb.debian.org/debian buster/main amd64 libalgorithm-diff-xs-perl amd64 0.04-5+b1 [11.8 kB]\n",
      "Get:91 http://deb.debian.org/debian buster/main amd64 libalgorithm-merge-perl all 0.08-3 [12.7 kB]\n",
      "Get:92 http://deb.debian.org/debian buster/main amd64 libfile-fcntllock-perl amd64 0.22-3+b5 [35.4 kB]\n",
      "Get:93 http://deb.debian.org/debian buster/main amd64 libltdl7 amd64 2.4.6-9 [390 kB]\n",
      "Get:94 http://deb.debian.org/debian buster/main amd64 libltdl-dev amd64 2.4.6-9 [162 kB]\n",
      "Get:95 http://deb.debian.org/debian buster/main amd64 libseccomp-dev amd64 2.3.3-4 [62.4 kB]\n",
      "Get:96 http://deb.debian.org/debian buster/main amd64 libssl-dev amd64 1.1.1d-0+deb10u6 [1794 kB]\n",
      "Get:97 http://deb.debian.org/debian buster/main amd64 libtool all 2.4.6-9 [547 kB]\n",
      "Get:98 http://deb.debian.org/debian buster/main amd64 libxau6 amd64 1:1.0.8-1+b2 [19.9 kB]\n",
      "Get:99 http://deb.debian.org/debian buster/main amd64 libxdmcp6 amd64 1:1.1.2-3 [26.3 kB]\n",
      "Get:100 http://deb.debian.org/debian buster/main amd64 libxcb1 amd64 1.13.1-2 [137 kB]\n",
      "Get:101 http://deb.debian.org/debian buster/main amd64 libx11-data all 2:1.6.7-1+deb10u2 [299 kB]\n",
      "Get:102 http://deb.debian.org/debian buster/main amd64 libx11-6 amd64 2:1.6.7-1+deb10u2 [757 kB]\n",
      "Get:103 http://deb.debian.org/debian buster/main amd64 libxext6 amd64 2:1.3.3-1+b2 [52.5 kB]\n",
      "Get:104 http://deb.debian.org/debian buster/main amd64 libxmuu1 amd64 2:1.1.2-2+b3 [23.9 kB]\n",
      "Get:105 http://deb.debian.org/debian buster/main amd64 manpages-dev all 4.16-2 [2232 kB]\n",
      "Get:106 http://deb.debian.org/debian buster/main amd64 xauth amd64 1:1.0.10-1 [40.3 kB]\n",
      "debconf: delaying package configuration, since apt-utils is not installed\n",
      "Fetched 95.9 MB in 3s (37.0 MB/s)\n",
      "Selecting previously unselected package perl-modules-5.28.\n",
      "(Reading database ... 6969 files and directories currently installed.)\n",
      "Preparing to unpack .../000-perl-modules-5.28_5.28.1-6+deb10u1_all.deb ...\n",
      "Unpacking perl-modules-5.28 (5.28.1-6+deb10u1) ...\n",
      "Selecting previously unselected package libgdbm6:amd64.\n",
      "Preparing to unpack .../001-libgdbm6_1.18.1-4_amd64.deb ...\n",
      "Unpacking libgdbm6:amd64 (1.18.1-4) ...\n",
      "Selecting previously unselected package libgdbm-compat4:amd64.\n",
      "Preparing to unpack .../002-libgdbm-compat4_1.18.1-4_amd64.deb ...\n",
      "Unpacking libgdbm-compat4:amd64 (1.18.1-4) ...\n",
      "Selecting previously unselected package libperl5.28:amd64.\n",
      "Preparing to unpack .../003-libperl5.28_5.28.1-6+deb10u1_amd64.deb ...\n",
      "Unpacking libperl5.28:amd64 (5.28.1-6+deb10u1) ...\n",
      "Selecting previously unselected package perl.\n",
      "Preparing to unpack .../004-perl_5.28.1-6+deb10u1_amd64.deb ...\n",
      "Unpacking perl (5.28.1-6+deb10u1) ...\n",
      "Selecting previously unselected package liblocale-gettext-perl.\n",
      "Preparing to unpack .../005-liblocale-gettext-perl_1.07-3+b4_amd64.deb ...\n",
      "Unpacking liblocale-gettext-perl (1.07-3+b4) ...\n",
      "Selecting previously unselected package less.\n",
      "Preparing to unpack .../006-less_487-0.1+b1_amd64.deb ...\n",
      "Unpacking less (487-0.1+b1) ...\n",
      "Selecting previously unselected package netbase.\n",
      "Preparing to unpack .../007-netbase_5.6_all.deb ...\n",
      "Unpacking netbase (5.6) ...\n",
      "Selecting previously unselected package readline-common.\n",
      "Preparing to unpack .../008-readline-common_7.0-5_all.deb ...\n",
      "Unpacking readline-common (7.0-5) ...\n",
      "Selecting previously unselected package bzip2.\n",
      "Preparing to unpack .../009-bzip2_1.0.6-9.2~deb10u1_amd64.deb ...\n",
      "Unpacking bzip2 (1.0.6-9.2~deb10u1) ...\n",
      "Selecting previously unselected package libmagic-mgc.\n",
      "Preparing to unpack .../010-libmagic-mgc_1%3a5.35-4+deb10u2_amd64.deb ...\n",
      "Unpacking libmagic-mgc (1:5.35-4+deb10u2) ...\n",
      "Selecting previously unselected package libmagic1:amd64.\n",
      "Preparing to unpack .../011-libmagic1_1%3a5.35-4+deb10u2_amd64.deb ...\n",
      "Unpacking libmagic1:amd64 (1:5.35-4+deb10u2) ...\n",
      "Selecting previously unselected package file.\n",
      "Preparing to unpack .../012-file_1%3a5.35-4+deb10u2_amd64.deb ...\n",
      "Unpacking file (1:5.35-4+deb10u2) ...\n",
      "Selecting previously unselected package manpages.\n",
      "Preparing to unpack .../013-manpages_4.16-2_all.deb ...\n",
      "Unpacking manpages (4.16-2) ...\n",
      "Selecting previously unselected package libbsd0:amd64.\n",
      "Preparing to unpack .../014-libbsd0_0.9.1-2+deb10u1_amd64.deb ...\n",
      "Unpacking libbsd0:amd64 (0.9.1-2+deb10u1) ...\n",
      "Selecting previously unselected package libedit2:amd64.\n",
      "Preparing to unpack .../015-libedit2_3.1-20181209-1_amd64.deb ...\n",
      "Unpacking libedit2:amd64 (3.1-20181209-1) ...\n",
      "Selecting previously unselected package openssh-client.\n",
      "Preparing to unpack .../016-openssh-client_1%3a7.9p1-10+deb10u2_amd64.deb ...\n",
      "Unpacking openssh-client (1:7.9p1-10+deb10u2) ...\n",
      "Selecting previously unselected package xz-utils.\n",
      "Preparing to unpack .../017-xz-utils_5.2.4-1_amd64.deb ...\n",
      "Unpacking xz-utils (5.2.4-1) ...\n",
      "Selecting previously unselected package libsigsegv2:amd64.\n",
      "Preparing to unpack .../018-libsigsegv2_2.12-2_amd64.deb ...\n",
      "Unpacking libsigsegv2:amd64 (2.12-2) ...\n",
      "Selecting previously unselected package m4.\n",
      "Preparing to unpack .../019-m4_1.4.18-2_amd64.deb ...\n",
      "Unpacking m4 (1.4.18-2) ...\n",
      "Selecting previously unselected package autoconf.\n",
      "Preparing to unpack .../020-autoconf_2.69-11_all.deb ...\n",
      "Unpacking autoconf (2.69-11) ...\n",
      "Selecting previously unselected package autotools-dev.\n",
      "Preparing to unpack .../021-autotools-dev_20180224.1_all.deb ...\n",
      "Unpacking autotools-dev (20180224.1) ...\n",
      "Selecting previously unselected package automake.\n",
      "Preparing to unpack .../022-automake_1%3a1.16.1-4_all.deb ...\n",
      "Unpacking automake (1:1.16.1-4) ...\n",
      "Selecting previously unselected package binutils-common:amd64.\n",
      "Preparing to unpack .../023-binutils-common_2.31.1-16_amd64.deb ...\n",
      "Unpacking binutils-common:amd64 (2.31.1-16) ...\n",
      "Selecting previously unselected package libbinutils:amd64.\n",
      "Preparing to unpack .../024-libbinutils_2.31.1-16_amd64.deb ...\n",
      "Unpacking libbinutils:amd64 (2.31.1-16) ...\n",
      "Selecting previously unselected package binutils-x86-64-linux-gnu.\n",
      "Preparing to unpack .../025-binutils-x86-64-linux-gnu_2.31.1-16_amd64.deb ...\n",
      "Unpacking binutils-x86-64-linux-gnu (2.31.1-16) ...\n",
      "Selecting previously unselected package binutils.\n",
      "Preparing to unpack .../026-binutils_2.31.1-16_amd64.deb ...\n",
      "Unpacking binutils (2.31.1-16) ...\n",
      "Selecting previously unselected package libc-dev-bin.\n",
      "Preparing to unpack .../027-libc-dev-bin_2.28-10_amd64.deb ...\n",
      "Unpacking libc-dev-bin (2.28-10) ...\n",
      "Selecting previously unselected package linux-libc-dev:amd64.\n",
      "Preparing to unpack .../028-linux-libc-dev_4.19.194-1_amd64.deb ...\n",
      "Unpacking linux-libc-dev:amd64 (4.19.194-1) ...\n",
      "Selecting previously unselected package libc6-dev:amd64.\n",
      "Preparing to unpack .../029-libc6-dev_2.28-10_amd64.deb ...\n",
      "Unpacking libc6-dev:amd64 (2.28-10) ...\n",
      "Selecting previously unselected package libisl19:amd64.\n",
      "Preparing to unpack .../030-libisl19_0.20-2_amd64.deb ...\n",
      "Unpacking libisl19:amd64 (0.20-2) ...\n",
      "Selecting previously unselected package libmpfr6:amd64.\n",
      "Preparing to unpack .../031-libmpfr6_4.0.2-1_amd64.deb ...\n",
      "Unpacking libmpfr6:amd64 (4.0.2-1) ...\n",
      "Selecting previously unselected package libmpc3:amd64.\n",
      "Preparing to unpack .../032-libmpc3_1.1.0-1_amd64.deb ...\n",
      "Unpacking libmpc3:amd64 (1.1.0-1) ...\n",
      "Selecting previously unselected package cpp-8.\n",
      "Preparing to unpack .../033-cpp-8_8.3.0-6_amd64.deb ...\n",
      "Unpacking cpp-8 (8.3.0-6) ...\n",
      "Selecting previously unselected package cpp.\n",
      "Preparing to unpack .../034-cpp_4%3a8.3.0-1_amd64.deb ...\n",
      "Unpacking cpp (4:8.3.0-1) ...\n",
      "Selecting previously unselected package libcc1-0:amd64.\n",
      "Preparing to unpack .../035-libcc1-0_8.3.0-6_amd64.deb ...\n",
      "Unpacking libcc1-0:amd64 (8.3.0-6) ...\n",
      "Selecting previously unselected package libgomp1:amd64.\n",
      "Preparing to unpack .../036-libgomp1_8.3.0-6_amd64.deb ...\n",
      "Unpacking libgomp1:amd64 (8.3.0-6) ...\n",
      "Selecting previously unselected package libitm1:amd64.\n",
      "Preparing to unpack .../037-libitm1_8.3.0-6_amd64.deb ...\n",
      "Unpacking libitm1:amd64 (8.3.0-6) ...\n",
      "Selecting previously unselected package libatomic1:amd64.\n",
      "Preparing to unpack .../038-libatomic1_8.3.0-6_amd64.deb ...\n",
      "Unpacking libatomic1:amd64 (8.3.0-6) ...\n",
      "Selecting previously unselected package libasan5:amd64.\n",
      "Preparing to unpack .../039-libasan5_8.3.0-6_amd64.deb ...\n",
      "Unpacking libasan5:amd64 (8.3.0-6) ...\n",
      "Selecting previously unselected package liblsan0:amd64.\n",
      "Preparing to unpack .../040-liblsan0_8.3.0-6_amd64.deb ...\n",
      "Unpacking liblsan0:amd64 (8.3.0-6) ...\n",
      "Selecting previously unselected package libtsan0:amd64.\n",
      "Preparing to unpack .../041-libtsan0_8.3.0-6_amd64.deb ...\n",
      "Unpacking libtsan0:amd64 (8.3.0-6) ...\n",
      "Selecting previously unselected package libubsan1:amd64.\n",
      "Preparing to unpack .../042-libubsan1_8.3.0-6_amd64.deb ...\n",
      "Unpacking libubsan1:amd64 (8.3.0-6) ...\n",
      "Selecting previously unselected package libmpx2:amd64.\n",
      "Preparing to unpack .../043-libmpx2_8.3.0-6_amd64.deb ...\n",
      "Unpacking libmpx2:amd64 (8.3.0-6) ...\n",
      "Selecting previously unselected package libquadmath0:amd64.\n",
      "Preparing to unpack .../044-libquadmath0_8.3.0-6_amd64.deb ...\n",
      "Unpacking libquadmath0:amd64 (8.3.0-6) ...\n",
      "Selecting previously unselected package libgcc-8-dev:amd64.\n",
      "Preparing to unpack .../045-libgcc-8-dev_8.3.0-6_amd64.deb ...\n",
      "Unpacking libgcc-8-dev:amd64 (8.3.0-6) ...\n",
      "Selecting previously unselected package gcc-8.\n",
      "Preparing to unpack .../046-gcc-8_8.3.0-6_amd64.deb ...\n",
      "Unpacking gcc-8 (8.3.0-6) ...\n",
      "Selecting previously unselected package gcc.\n",
      "Preparing to unpack .../047-gcc_4%3a8.3.0-1_amd64.deb ...\n",
      "Unpacking gcc (4:8.3.0-1) ...\n",
      "Selecting previously unselected package libstdc++-8-dev:amd64.\n",
      "Preparing to unpack .../048-libstdc++-8-dev_8.3.0-6_amd64.deb ...\n",
      "Unpacking libstdc++-8-dev:amd64 (8.3.0-6) ...\n",
      "Selecting previously unselected package g++-8.\n",
      "Preparing to unpack .../049-g++-8_8.3.0-6_amd64.deb ...\n",
      "Unpacking g++-8 (8.3.0-6) ...\n",
      "Selecting previously unselected package g++.\n",
      "Preparing to unpack .../050-g++_4%3a8.3.0-1_amd64.deb ...\n",
      "Unpacking g++ (4:8.3.0-1) ...\n",
      "Selecting previously unselected package make.\n",
      "Preparing to unpack .../051-make_4.2.1-1.2_amd64.deb ...\n",
      "Unpacking make (4.2.1-1.2) ...\n",
      "Selecting previously unselected package libdpkg-perl.\n",
      "Preparing to unpack .../052-libdpkg-perl_1.19.7_all.deb ...\n",
      "Unpacking libdpkg-perl (1.19.7) ...\n",
      "Selecting previously unselected package patch.\n",
      "Preparing to unpack .../053-patch_2.7.6-3+deb10u1_amd64.deb ...\n",
      "Unpacking patch (2.7.6-3+deb10u1) ...\n",
      "Selecting previously unselected package dpkg-dev.\n",
      "Preparing to unpack .../054-dpkg-dev_1.19.7_all.deb ...\n",
      "Unpacking dpkg-dev (1.19.7) ...\n",
      "Selecting previously unselected package build-essential.\n",
      "Preparing to unpack .../055-build-essential_12.6_amd64.deb ...\n",
      "Unpacking build-essential (12.6) ...\n",
      "Selecting previously unselected package cmake-data.\n",
      "Preparing to unpack .../056-cmake-data_3.13.4-1_all.deb ...\n",
      "Unpacking cmake-data (3.13.4-1) ...\n",
      "Selecting previously unselected package libicu63:amd64.\n",
      "Preparing to unpack .../057-libicu63_63.1-6+deb10u1_amd64.deb ...\n",
      "Unpacking libicu63:amd64 (63.1-6+deb10u1) ...\n",
      "Selecting previously unselected package libxml2:amd64.\n",
      "Preparing to unpack .../058-libxml2_2.9.4+dfsg1-7+deb10u2_amd64.deb ...\n",
      "Unpacking libxml2:amd64 (2.9.4+dfsg1-7+deb10u2) ...\n",
      "Selecting previously unselected package libarchive13:amd64.\n",
      "Preparing to unpack .../059-libarchive13_3.3.3-4+deb10u1_amd64.deb ...\n",
      "Unpacking libarchive13:amd64 (3.3.3-4+deb10u1) ...\n",
      "Selecting previously unselected package libexpat1:amd64.\n",
      "Preparing to unpack .../060-libexpat1_2.2.6-2+deb10u1_amd64.deb ...\n",
      "Unpacking libexpat1:amd64 (2.2.6-2+deb10u1) ...\n",
      "Selecting previously unselected package libjsoncpp1:amd64.\n",
      "Preparing to unpack .../061-libjsoncpp1_1.7.4-3_amd64.deb ...\n",
      "Unpacking libjsoncpp1:amd64 (1.7.4-3) ...\n",
      "Selecting previously unselected package librhash0:amd64.\n",
      "Preparing to unpack .../062-librhash0_1.3.8-1_amd64.deb ...\n",
      "Unpacking librhash0:amd64 (1.3.8-1) ...\n",
      "Selecting previously unselected package libuv1:amd64.\n",
      "Preparing to unpack .../063-libuv1_1.24.1-1_amd64.deb ...\n",
      "Unpacking libuv1:amd64 (1.24.1-1) ...\n",
      "Selecting previously unselected package cmake.\n",
      "Preparing to unpack .../064-cmake_3.13.4-1_amd64.deb ...\n",
      "Unpacking cmake (3.13.4-1) ...\n",
      "Selecting previously unselected package libassuan0:amd64.\n",
      "Preparing to unpack .../065-libassuan0_2.5.2-1_amd64.deb ...\n",
      "Unpacking libassuan0:amd64 (2.5.2-1) ...\n",
      "Selecting previously unselected package libreadline7:amd64.\n",
      "Preparing to unpack .../066-libreadline7_7.0-5_amd64.deb ...\n",
      "Unpacking libreadline7:amd64 (7.0-5) ...\n",
      "Selecting previously unselected package gpgconf.\n",
      "Preparing to unpack .../067-gpgconf_2.2.12-1+deb10u1_amd64.deb ...\n",
      "Unpacking gpgconf (2.2.12-1+deb10u1) ...\n",
      "Selecting previously unselected package libksba8:amd64.\n",
      "Preparing to unpack .../068-libksba8_1.3.5-2_amd64.deb ...\n",
      "Unpacking libksba8:amd64 (1.3.5-2) ...\n",
      "Selecting previously unselected package libnpth0:amd64.\n",
      "Preparing to unpack .../069-libnpth0_1.6-1_amd64.deb ...\n",
      "Unpacking libnpth0:amd64 (1.6-1) ...\n",
      "Selecting previously unselected package dirmngr.\n",
      "Preparing to unpack .../070-dirmngr_2.2.12-1+deb10u1_amd64.deb ...\n",
      "Unpacking dirmngr (2.2.12-1+deb10u1) ...\n",
      "Selecting previously unselected package libfakeroot:amd64.\n",
      "Preparing to unpack .../071-libfakeroot_1.23-1_amd64.deb ...\n",
      "Unpacking libfakeroot:amd64 (1.23-1) ...\n",
      "Selecting previously unselected package fakeroot.\n",
      "Preparing to unpack .../072-fakeroot_1.23-1_amd64.deb ...\n",
      "Unpacking fakeroot (1.23-1) ...\n",
      "Selecting previously unselected package libcurl3-gnutls:amd64.\n",
      "Preparing to unpack .../073-libcurl3-gnutls_7.64.0-4+deb10u2_amd64.deb ...\n",
      "Unpacking libcurl3-gnutls:amd64 (7.64.0-4+deb10u2) ...\n",
      "Selecting previously unselected package libpcre2-8-0:amd64.\n",
      "Preparing to unpack .../074-libpcre2-8-0_10.32-5_amd64.deb ...\n",
      "Unpacking libpcre2-8-0:amd64 (10.32-5) ...\n",
      "Selecting previously unselected package liberror-perl.\n",
      "Preparing to unpack .../075-liberror-perl_0.17027-2_all.deb ...\n",
      "Unpacking liberror-perl (0.17027-2) ...\n",
      "Selecting previously unselected package git-man.\n",
      "Preparing to unpack .../076-git-man_1%3a2.20.1-2+deb10u3_all.deb ...\n",
      "Unpacking git-man (1:2.20.1-2+deb10u3) ...\n",
      "Selecting previously unselected package git.\n",
      "Preparing to unpack .../077-git_1%3a2.20.1-2+deb10u3_amd64.deb ...\n",
      "Unpacking git (1:2.20.1-2+deb10u3) ...\n",
      "Selecting previously unselected package gnupg-l10n.\n",
      "Preparing to unpack .../078-gnupg-l10n_2.2.12-1+deb10u1_all.deb ...\n",
      "Unpacking gnupg-l10n (2.2.12-1+deb10u1) ...\n",
      "Selecting previously unselected package gnupg-utils.\n",
      "Preparing to unpack .../079-gnupg-utils_2.2.12-1+deb10u1_amd64.deb ...\n",
      "Unpacking gnupg-utils (2.2.12-1+deb10u1) ...\n",
      "Selecting previously unselected package libsqlite3-0:amd64.\n",
      "Preparing to unpack .../080-libsqlite3-0_3.27.2-3+deb10u1_amd64.deb ...\n",
      "Unpacking libsqlite3-0:amd64 (3.27.2-3+deb10u1) ...\n",
      "Selecting previously unselected package gpg.\n",
      "Preparing to unpack .../081-gpg_2.2.12-1+deb10u1_amd64.deb ...\n",
      "Unpacking gpg (2.2.12-1+deb10u1) ...\n",
      "Selecting previously unselected package pinentry-curses.\n",
      "Preparing to unpack .../082-pinentry-curses_1.1.0-2_amd64.deb ...\n",
      "Unpacking pinentry-curses (1.1.0-2) ...\n",
      "Selecting previously unselected package gpg-agent.\n",
      "Preparing to unpack .../083-gpg-agent_2.2.12-1+deb10u1_amd64.deb ...\n",
      "Unpacking gpg-agent (2.2.12-1+deb10u1) ...\n",
      "Selecting previously unselected package gpg-wks-client.\n",
      "Preparing to unpack .../084-gpg-wks-client_2.2.12-1+deb10u1_amd64.deb ...\n",
      "Unpacking gpg-wks-client (2.2.12-1+deb10u1) ...\n",
      "Selecting previously unselected package gpg-wks-server.\n",
      "Preparing to unpack .../085-gpg-wks-server_2.2.12-1+deb10u1_amd64.deb ...\n",
      "Unpacking gpg-wks-server (2.2.12-1+deb10u1) ...\n",
      "Selecting previously unselected package gpgsm.\n",
      "Preparing to unpack .../086-gpgsm_2.2.12-1+deb10u1_amd64.deb ...\n",
      "Unpacking gpgsm (2.2.12-1+deb10u1) ...\n",
      "Selecting previously unselected package gnupg.\n",
      "Preparing to unpack .../087-gnupg_2.2.12-1+deb10u1_all.deb ...\n",
      "Unpacking gnupg (2.2.12-1+deb10u1) ...\n",
      "Selecting previously unselected package libalgorithm-diff-perl.\n",
      "Preparing to unpack .../088-libalgorithm-diff-perl_1.19.03-2_all.deb ...\n",
      "Unpacking libalgorithm-diff-perl (1.19.03-2) ...\n",
      "Selecting previously unselected package libalgorithm-diff-xs-perl.\n",
      "Preparing to unpack .../089-libalgorithm-diff-xs-perl_0.04-5+b1_amd64.deb ...\n",
      "Unpacking libalgorithm-diff-xs-perl (0.04-5+b1) ...\n",
      "Selecting previously unselected package libalgorithm-merge-perl.\n",
      "Preparing to unpack .../090-libalgorithm-merge-perl_0.08-3_all.deb ...\n",
      "Unpacking libalgorithm-merge-perl (0.08-3) ...\n",
      "Selecting previously unselected package libfile-fcntllock-perl.\n",
      "Preparing to unpack .../091-libfile-fcntllock-perl_0.22-3+b5_amd64.deb ...\n",
      "Unpacking libfile-fcntllock-perl (0.22-3+b5) ...\n",
      "Selecting previously unselected package libltdl7:amd64.\n",
      "Preparing to unpack .../092-libltdl7_2.4.6-9_amd64.deb ...\n",
      "Unpacking libltdl7:amd64 (2.4.6-9) ...\n",
      "Selecting previously unselected package libltdl-dev:amd64.\n",
      "Preparing to unpack .../093-libltdl-dev_2.4.6-9_amd64.deb ...\n",
      "Unpacking libltdl-dev:amd64 (2.4.6-9) ...\n",
      "Selecting previously unselected package libseccomp-dev:amd64.\n",
      "Preparing to unpack .../094-libseccomp-dev_2.3.3-4_amd64.deb ...\n",
      "Unpacking libseccomp-dev:amd64 (2.3.3-4) ...\n",
      "Selecting previously unselected package libssl-dev:amd64.\n",
      "Preparing to unpack .../095-libssl-dev_1.1.1d-0+deb10u6_amd64.deb ...\n",
      "Unpacking libssl-dev:amd64 (1.1.1d-0+deb10u6) ...\n",
      "Selecting previously unselected package libtool.\n",
      "Preparing to unpack .../096-libtool_2.4.6-9_all.deb ...\n",
      "Unpacking libtool (2.4.6-9) ...\n",
      "Selecting previously unselected package libxau6:amd64.\n",
      "Preparing to unpack .../097-libxau6_1%3a1.0.8-1+b2_amd64.deb ...\n",
      "Unpacking libxau6:amd64 (1:1.0.8-1+b2) ...\n",
      "Selecting previously unselected package libxdmcp6:amd64.\n",
      "Preparing to unpack .../098-libxdmcp6_1%3a1.1.2-3_amd64.deb ...\n",
      "Unpacking libxdmcp6:amd64 (1:1.1.2-3) ...\n",
      "Selecting previously unselected package libxcb1:amd64.\n",
      "Preparing to unpack .../099-libxcb1_1.13.1-2_amd64.deb ...\n",
      "Unpacking libxcb1:amd64 (1.13.1-2) ...\n",
      "Selecting previously unselected package libx11-data.\n",
      "Preparing to unpack .../100-libx11-data_2%3a1.6.7-1+deb10u2_all.deb ...\n",
      "Unpacking libx11-data (2:1.6.7-1+deb10u2) ...\n",
      "Selecting previously unselected package libx11-6:amd64.\n",
      "Preparing to unpack .../101-libx11-6_2%3a1.6.7-1+deb10u2_amd64.deb ...\n",
      "Unpacking libx11-6:amd64 (2:1.6.7-1+deb10u2) ...\n",
      "Selecting previously unselected package libxext6:amd64.\n",
      "Preparing to unpack .../102-libxext6_2%3a1.3.3-1+b2_amd64.deb ...\n",
      "Unpacking libxext6:amd64 (2:1.3.3-1+b2) ...\n",
      "Selecting previously unselected package libxmuu1:amd64.\n",
      "Preparing to unpack .../103-libxmuu1_2%3a1.1.2-2+b3_amd64.deb ...\n",
      "Unpacking libxmuu1:amd64 (2:1.1.2-2+b3) ...\n",
      "Selecting previously unselected package manpages-dev.\n",
      "Preparing to unpack .../104-manpages-dev_4.16-2_all.deb ...\n",
      "Unpacking manpages-dev (4.16-2) ...\n",
      "Selecting previously unselected package xauth.\n",
      "Preparing to unpack .../105-xauth_1%3a1.0.10-1_amd64.deb ...\n",
      "Unpacking xauth (1:1.0.10-1) ...\n",
      "Setting up perl-modules-5.28 (5.28.1-6+deb10u1) ...\n",
      "Setting up libksba8:amd64 (1.3.5-2) ...\n",
      "Setting up libexpat1:amd64 (2.2.6-2+deb10u1) ...\n",
      "Setting up libxau6:amd64 (1:1.0.8-1+b2) ...\n",
      "Setting up libseccomp-dev:amd64 (2.3.3-4) ...\n",
      "Setting up libmagic-mgc (1:5.35-4+deb10u2) ...\n",
      "Setting up manpages (4.16-2) ...\n",
      "Setting up libsqlite3-0:amd64 (3.27.2-3+deb10u1) ...\n",
      "Setting up binutils-common:amd64 (2.31.1-16) ...\n",
      "Setting up libmagic1:amd64 (1:5.35-4+deb10u2) ...\n",
      "Setting up less (487-0.1+b1) ...\n",
      "debconf: unable to initialize frontend: Dialog\n",
      "debconf: (TERM is not set, so the dialog frontend is not usable.)\n",
      "debconf: falling back to frontend: Readline\n",
      "Setting up linux-libc-dev:amd64 (4.19.194-1) ...\n",
      "Setting up libcurl3-gnutls:amd64 (7.64.0-4+deb10u2) ...\n",
      "Setting up libnpth0:amd64 (1.6-1) ...\n",
      "Setting up file (1:5.35-4+deb10u2) ...\n",
      "Setting up libassuan0:amd64 (2.5.2-1) ...\n",
      "Setting up libgomp1:amd64 (8.3.0-6) ...\n",
      "Setting up bzip2 (1.0.6-9.2~deb10u1) ...\n",
      "Setting up libicu63:amd64 (63.1-6+deb10u1) ...\n",
      "Setting up libfakeroot:amd64 (1.23-1) ...\n",
      "Setting up fakeroot (1.23-1) ...\n",
      "update-alternatives: using /usr/bin/fakeroot-sysv to provide /usr/bin/fakeroot (fakeroot) in auto mode\n",
      "Setting up libasan5:amd64 (8.3.0-6) ...\n",
      "Setting up autotools-dev (20180224.1) ...\n",
      "Setting up libuv1:amd64 (1.24.1-1) ...\n",
      "Setting up libx11-data (2:1.6.7-1+deb10u2) ...\n",
      "Setting up make (4.2.1-1.2) ...\n",
      "Setting up libmpfr6:amd64 (4.0.2-1) ...\n",
      "Setting up gnupg-l10n (2.2.12-1+deb10u1) ...\n",
      "Setting up libsigsegv2:amd64 (2.12-2) ...\n",
      "Setting up xz-utils (5.2.4-1) ...\n",
      "update-alternatives: using /usr/bin/xz to provide /usr/bin/lzma (lzma) in auto mode\n",
      "Setting up libquadmath0:amd64 (8.3.0-6) ...\n",
      "Setting up libssl-dev:amd64 (1.1.1d-0+deb10u6) ...\n",
      "Setting up libmpc3:amd64 (1.1.0-1) ...\n",
      "Setting up libatomic1:amd64 (8.3.0-6) ...\n",
      "Setting up patch (2.7.6-3+deb10u1) ...\n",
      "Setting up libpcre2-8-0:amd64 (10.32-5) ...\n",
      "Setting up libltdl7:amd64 (2.4.6-9) ...\n",
      "Setting up libmpx2:amd64 (8.3.0-6) ...\n",
      "Setting up libubsan1:amd64 (8.3.0-6) ...\n",
      "Setting up libisl19:amd64 (0.20-2) ...\n",
      "Setting up librhash0:amd64 (1.3.8-1) ...\n",
      "Setting up git-man (1:2.20.1-2+deb10u3) ...\n",
      "Setting up netbase (5.6) ...\n",
      "Setting up cmake-data (3.13.4-1) ...\n",
      "Setting up libbinutils:amd64 (2.31.1-16) ...\n",
      "Setting up cpp-8 (8.3.0-6) ...\n",
      "Setting up libc-dev-bin (2.28-10) ...\n",
      "Setting up libbsd0:amd64 (0.9.1-2+deb10u1) ...\n",
      "Setting up readline-common (7.0-5) ...\n",
      "Setting up libxml2:amd64 (2.9.4+dfsg1-7+deb10u2) ...\n",
      "Setting up libcc1-0:amd64 (8.3.0-6) ...\n",
      "Setting up liblocale-gettext-perl (1.07-3+b4) ...\n",
      "Setting up liblsan0:amd64 (8.3.0-6) ...\n",
      "Setting up libitm1:amd64 (8.3.0-6) ...\n",
      "Setting up libjsoncpp1:amd64 (1.7.4-3) ...\n",
      "Setting up libreadline7:amd64 (7.0-5) ...\n",
      "Setting up libgdbm6:amd64 (1.18.1-4) ...\n",
      "Setting up gnupg-utils (2.2.12-1+deb10u1) ...\n",
      "Setting up binutils-x86-64-linux-gnu (2.31.1-16) ...\n",
      "Setting up libtsan0:amd64 (8.3.0-6) ...\n",
      "Setting up pinentry-curses (1.1.0-2) ...\n",
      "Setting up manpages-dev (4.16-2) ...\n",
      "Setting up libxdmcp6:amd64 (1:1.1.2-3) ...\n",
      "Setting up libxcb1:amd64 (1.13.1-2) ...\n",
      "Setting up libarchive13:amd64 (3.3.3-4+deb10u1) ...\n",
      "Setting up libedit2:amd64 (3.1-20181209-1) ...\n",
      "Setting up m4 (1.4.18-2) ...\n",
      "Setting up binutils (2.31.1-16) ...\n",
      "Setting up libgdbm-compat4:amd64 (1.18.1-4) ...\n",
      "Setting up libgcc-8-dev:amd64 (8.3.0-6) ...\n",
      "Setting up libperl5.28:amd64 (5.28.1-6+deb10u1) ...\n",
      "Setting up cpp (4:8.3.0-1) ...\n",
      "Setting up gpgconf (2.2.12-1+deb10u1) ...\n",
      "Setting up cmake (3.13.4-1) ...\n",
      "Setting up libc6-dev:amd64 (2.28-10) ...\n",
      "Setting up libx11-6:amd64 (2:1.6.7-1+deb10u2) ...\n",
      "Setting up libxmuu1:amd64 (2:1.1.2-2+b3) ...\n",
      "Setting up gpg (2.2.12-1+deb10u1) ...\n",
      "Setting up libstdc++-8-dev:amd64 (8.3.0-6) ...\n",
      "Setting up gcc-8 (8.3.0-6) ...\n",
      "Setting up gpg-agent (2.2.12-1+deb10u1) ...\n",
      "Setting up libtool (2.4.6-9) ...\n",
      "Setting up openssh-client (1:7.9p1-10+deb10u2) ...\n",
      "Setting up gpgsm (2.2.12-1+deb10u1) ...\n",
      "Setting up libxext6:amd64 (2:1.3.3-1+b2) ...\n",
      "Setting up gcc (4:8.3.0-1) ...\n",
      "Setting up dirmngr (2.2.12-1+deb10u1) ...\n",
      "Setting up perl (5.28.1-6+deb10u1) ...\n",
      "Setting up libdpkg-perl (1.19.7) ...\n",
      "Setting up autoconf (2.69-11) ...\n",
      "Setting up gpg-wks-server (2.2.12-1+deb10u1) ...\n",
      "Setting up g++-8 (8.3.0-6) ...\n",
      "Setting up xauth (1:1.0.10-1) ...\n",
      "Setting up automake (1:1.16.1-4) ...\n",
      "update-alternatives: using /usr/bin/automake-1.16 to provide /usr/bin/automake (automake) in auto mode\n",
      "Setting up gpg-wks-client (2.2.12-1+deb10u1) ...\n",
      "Setting up libfile-fcntllock-perl (0.22-3+b5) ...\n",
      "Setting up libalgorithm-diff-perl (1.19.03-2) ...\n",
      "Setting up dpkg-dev (1.19.7) ...\n",
      "Setting up liberror-perl (0.17027-2) ...\n",
      "Setting up libltdl-dev:amd64 (2.4.6-9) ...\n",
      "Setting up git (1:2.20.1-2+deb10u3) ...\n",
      "Setting up g++ (4:8.3.0-1) ...\n",
      "update-alternatives: using /usr/bin/g++ to provide /usr/bin/c++ (c++) in auto mode\n",
      "Setting up gnupg (2.2.12-1+deb10u1) ...\n",
      "Setting up build-essential (12.6) ...\n",
      "Setting up libalgorithm-diff-xs-perl (0.04-5+b1) ...\n",
      "Setting up libalgorithm-merge-perl (0.08-3) ...\n",
      "Processing triggers for libc-bin (2.28-10) ...\n",
      ":... pulling proxy code from github\n",
      "Cloning into 'pkcs11-proxy'...\n",
      ":...building the proxy...\n",
      "-- The C compiler identification is GNU 8.3.0\n",
      "-- Check for working C compiler: /usr/bin/cc\n",
      "-- Check for working C compiler: /usr/bin/cc -- works\n",
      "-- Detecting C compiler ABI info\n",
      "-- Detecting C compiler ABI info - done\n",
      "-- Detecting C compile features\n",
      "-- Detecting C compile features - done\n",
      "-- Configuring done\n",
      "-- Generating done\n",
      "-- Build files have been written to: /app/pkcs11-proxy\n",
      "[  6%] Generating syscall-names.h\n",
      "Scanning dependencies of target pkcs11-daemon\n",
      "[ 13%] Building C object CMakeFiles/pkcs11-daemon.dir/egg-buffer.o\n",
      "[ 20%] Building C object CMakeFiles/pkcs11-daemon.dir/gck-rpc-daemon-standalone.o\n",
      "[ 26%] Building C object CMakeFiles/pkcs11-daemon.dir/gck-rpc-dispatch.o\n",
      "/app/pkcs11-proxy/gck-rpc-dispatch.c: In function 'gck_rpc_layer_accept':\n",
      "/app/pkcs11-proxy/gck-rpc-dispatch.c:2374:21: warning: assignment to 'int (*)(void *, unsigned char *, size_t)' {aka 'int (*)(void *, unsigned char *, long unsigned int)'} from incompatible pointer type 'int (*)(CallState *, void *, size_t)' {aka 'int (*)(struct _CallState *, void *, long unsigned int)'} [-Wincompatible-pointer-types]\n",
      "         ds->cs.read = &read_all;\n",
      "                     ^\n",
      "/app/pkcs11-proxy/gck-rpc-dispatch.c:2375:22: warning: assignment to 'int (*)(void *, unsigned char *, size_t)' {aka 'int (*)(void *, unsigned char *, long unsigned int)'} from incompatible pointer type 'int (*)(CallState *, void *, size_t)' {aka 'int (*)(struct _CallState *, void *, long unsigned int)'} [-Wincompatible-pointer-types]\n",
      "         ds->cs.write = &write_all;\n",
      "                      ^\n",
      "/app/pkcs11-proxy/gck-rpc-dispatch.c: In function 'gck_rpc_layer_inetd':\n",
      "/app/pkcs11-proxy/gck-rpc-dispatch.c:2412:12: warning: assignment to 'int (*)(void *, unsigned char *, size_t)' {aka 'int (*)(void *, unsigned char *, long unsigned int)'} from incompatible pointer type 'int (*)(CallState *, void *, size_t)' {aka 'int (*)(struct _CallState *, void *, long unsigned int)'} [-Wincompatible-pointer-types]\n",
      "    cs.read = &_inetd_read;\n",
      "            ^\n",
      "/app/pkcs11-proxy/gck-rpc-dispatch.c:2413:13: warning: assignment to 'int (*)(void *, unsigned char *, size_t)' {aka 'int (*)(void *, unsigned char *, long unsigned int)'} from incompatible pointer type 'int (*)(CallState *, void *, size_t)' {aka 'int (*)(struct _CallState *, void *, long unsigned int)'} [-Wincompatible-pointer-types]\n",
      "    cs.write = &_inetd_write;\n",
      "             ^\n",
      "[ 33%] Building C object CMakeFiles/pkcs11-daemon.dir/gck-rpc-message.o\n",
      "[ 40%] Building C object CMakeFiles/pkcs11-daemon.dir/gck-rpc-util.o\n",
      "[ 46%] Building C object CMakeFiles/pkcs11-daemon.dir/syscall-reporter.o\n",
      "In file included from /app/pkcs11-proxy/syscall-reporter.c:12:\n",
      "/app/pkcs11-proxy/syscall-reporter.h:21:2: warning: #warning \"You've included the syscall reporter. Do not use in production!\" [-Wcpp]\n",
      " #warning \"You've included the syscall reporter. Do not use in production!\"\n",
      "  ^~~~~~~\n",
      "/app/pkcs11-proxy/syscall-reporter.c:34:13: warning: 'reporter' defined but not used [-Wunused-function]\n",
      " static void reporter(int nr, siginfo_t *info, void *void_context)\n",
      "             ^~~~~~~~\n",
      "/app/pkcs11-proxy/syscall-reporter.c:18:13: warning: 'write_uint' defined but not used [-Wunused-function]\n",
      " static void write_uint(char *buf, unsigned int val)\n",
      "             ^~~~~~~~~~\n",
      "In file included from /app/pkcs11-proxy/syscall-reporter.c:13:\n",
      "/app/pkcs11-proxy/syscall-names.h:1:20: warning: 'syscall_names' defined but not used [-Wunused-variable]\n",
      " static const char *syscall_names[] = {\n",
      "                    ^~~~~~~~~~~~~\n",
      "[ 53%] Building C object CMakeFiles/pkcs11-daemon.dir/gck-rpc-tls-psk.o\n",
      "/app/pkcs11-proxy/gck-rpc-tls-psk.c: In function '_tls_psk_decode_key':\n",
      "/app/pkcs11-proxy/gck-rpc-tls-psk.c:92:7: warning: implicit declaration of function 'strlen' [-Wimplicit-function-declaration]\n",
      "  if ((strlen(hexkey) % 2) != 0) {\n",
      "       ^~~~~~\n",
      "/app/pkcs11-proxy/gck-rpc-tls-psk.c:92:7: warning: incompatible implicit declaration of built-in function 'strlen'\n",
      "/app/pkcs11-proxy/gck-rpc-tls-psk.c:92:7: note: include '<string.h>' or provide a declaration of 'strlen'\n",
      "/app/pkcs11-proxy/gck-rpc-tls-psk.c:37:1:\n",
      "+#include <string.h>\n",
      " \n",
      "/app/pkcs11-proxy/gck-rpc-tls-psk.c:92:7:\n",
      "  if ((strlen(hexkey) % 2) != 0) {\n",
      "       ^~~~~~\n",
      "/app/pkcs11-proxy/gck-rpc-tls-psk.c:97:2: warning: implicit declaration of function 'memset' [-Wimplicit-function-declaration]\n",
      "  memset(psk, 0, max_psk_len);\n",
      "  ^~~~~~\n",
      "/app/pkcs11-proxy/gck-rpc-tls-psk.c:97:2: warning: incompatible implicit declaration of built-in function 'memset'\n",
      "/app/pkcs11-proxy/gck-rpc-tls-psk.c:97:2: note: include '<string.h>' or provide a declaration of 'memset'\n",
      "/app/pkcs11-proxy/gck-rpc-tls-psk.c: In function '_tls_psk_server_cb':\n",
      "/app/pkcs11-proxy/gck-rpc-tls-psk.c:188:31: warning: implicit declaration of function 'strerror'; did you mean 'perror'? [-Wimplicit-function-declaration]\n",
      "         tls_psk_key_filename, strerror(errno));\n",
      "                               ^~~~~~~~\n",
      "                               perror\n",
      "/app/pkcs11-proxy/gck-rpc-tls-psk.c:201:12: warning: implicit declaration of function 'strchr' [-Wimplicit-function-declaration]\n",
      "   hexkey = strchr(line, ':');\n",
      "            ^~~~~~\n",
      "/app/pkcs11-proxy/gck-rpc-tls-psk.c:201:12: warning: incompatible implicit declaration of built-in function 'strchr'\n",
      "/app/pkcs11-proxy/gck-rpc-tls-psk.c:201:12: note: include '<string.h>' or provide a declaration of 'strchr'\n",
      "/app/pkcs11-proxy/gck-rpc-tls-psk.c:208:12: warning: incompatible implicit declaration of built-in function 'strlen'\n",
      "   for (i = strlen(hexkey) - 1; i && (hexkey[i] == '\\n' || hexkey[i] == '\\r'); i--)\n",
      "            ^~~~~~\n",
      "/app/pkcs11-proxy/gck-rpc-tls-psk.c:208:12: note: include '<string.h>' or provide a declaration of 'strlen'\n",
      "/app/pkcs11-proxy/gck-rpc-tls-psk.c:211:46: warning: implicit declaration of function 'strcmp' [-Wimplicit-function-declaration]\n",
      "   if (identity == NULL || ! identity[0] || ! strcmp(line, identity)) {\n",
      "                                              ^~~~~~\n",
      "/app/pkcs11-proxy/gck-rpc-tls-psk.c: In function 'gck_rpc_init_tls_psk':\n",
      "/app/pkcs11-proxy/gck-rpc-tls-psk.c:268:2: warning: 'TLSv1_2_method' is deprecated [-Wdeprecated-declarations]\n",
      "  state->ssl_ctx = SSL_CTX_new(TLSv1_2_method());\n",
      "  ^~~~~\n",
      "In file included from /usr/include/openssl/e_os2.h:13,\n",
      "                 from /usr/include/openssl/bio.h:13,\n",
      "                 from /app/pkcs11-proxy/gck-rpc-tls-psk.h:5,\n",
      "                 from /app/pkcs11-proxy/gck-rpc-tls-psk.c:27:\n",
      "/usr/include/openssl/ssl.h:1889:1: note: declared here\n",
      " DEPRECATEDIN_1_1_0(__owur const SSL_METHOD *TLSv1_2_method(void)) /* TLSv1.2 */\n",
      " ^~~~~~~~~~~~~~~~~~\n",
      "[ 60%] Linking C executable pkcs11-daemon\n",
      "[ 60%] Built target pkcs11-daemon\n",
      "Scanning dependencies of target pkcs11-proxy\n",
      "[ 66%] Building C object CMakeFiles/pkcs11-proxy.dir/gck-rpc-module.o\n",
      "[ 73%] Building C object CMakeFiles/pkcs11-proxy.dir/gck-rpc-message.o\n",
      "[ 80%] Building C object CMakeFiles/pkcs11-proxy.dir/gck-rpc-util.o\n",
      "[ 86%] Building C object CMakeFiles/pkcs11-proxy.dir/egg-buffer.o\n",
      "[ 93%] Building C object CMakeFiles/pkcs11-proxy.dir/gck-rpc-tls-psk.o\n",
      "/app/pkcs11-proxy/gck-rpc-tls-psk.c: In function '_tls_psk_decode_key':\n",
      "/app/pkcs11-proxy/gck-rpc-tls-psk.c:92:7: warning: implicit declaration of function 'strlen' [-Wimplicit-function-declaration]\n",
      "  if ((strlen(hexkey) % 2) != 0) {\n",
      "       ^~~~~~\n",
      "/app/pkcs11-proxy/gck-rpc-tls-psk.c:92:7: warning: incompatible implicit declaration of built-in function 'strlen'\n",
      "/app/pkcs11-proxy/gck-rpc-tls-psk.c:92:7: note: include '<string.h>' or provide a declaration of 'strlen'\n",
      "/app/pkcs11-proxy/gck-rpc-tls-psk.c:37:1:\n",
      "+#include <string.h>\n",
      " \n",
      "/app/pkcs11-proxy/gck-rpc-tls-psk.c:92:7:\n",
      "  if ((strlen(hexkey) % 2) != 0) {\n",
      "       ^~~~~~\n",
      "/app/pkcs11-proxy/gck-rpc-tls-psk.c:97:2: warning: implicit declaration of function 'memset' [-Wimplicit-function-declaration]\n",
      "  memset(psk, 0, max_psk_len);\n",
      "  ^~~~~~\n",
      "/app/pkcs11-proxy/gck-rpc-tls-psk.c:97:2: warning: incompatible implicit declaration of built-in function 'memset'\n",
      "/app/pkcs11-proxy/gck-rpc-tls-psk.c:97:2: note: include '<string.h>' or provide a declaration of 'memset'\n",
      "/app/pkcs11-proxy/gck-rpc-tls-psk.c: In function '_tls_psk_server_cb':\n",
      "/app/pkcs11-proxy/gck-rpc-tls-psk.c:188:31: warning: implicit declaration of function 'strerror'; did you mean 'perror'? [-Wimplicit-function-declaration]\n",
      "         tls_psk_key_filename, strerror(errno));\n",
      "                               ^~~~~~~~\n",
      "                               perror\n",
      "/app/pkcs11-proxy/gck-rpc-tls-psk.c:201:12: warning: implicit declaration of function 'strchr' [-Wimplicit-function-declaration]\n",
      "   hexkey = strchr(line, ':');\n",
      "            ^~~~~~\n",
      "/app/pkcs11-proxy/gck-rpc-tls-psk.c:201:12: warning: incompatible implicit declaration of built-in function 'strchr'\n",
      "/app/pkcs11-proxy/gck-rpc-tls-psk.c:201:12: note: include '<string.h>' or provide a declaration of 'strchr'\n",
      "/app/pkcs11-proxy/gck-rpc-tls-psk.c:208:12: warning: incompatible implicit declaration of built-in function 'strlen'\n",
      "   for (i = strlen(hexkey) - 1; i && (hexkey[i] == '\\n' || hexkey[i] == '\\r'); i--)\n",
      "            ^~~~~~\n",
      "/app/pkcs11-proxy/gck-rpc-tls-psk.c:208:12: note: include '<string.h>' or provide a declaration of 'strlen'\n",
      "/app/pkcs11-proxy/gck-rpc-tls-psk.c:211:46: warning: implicit declaration of function 'strcmp' [-Wimplicit-function-declaration]\n",
      "   if (identity == NULL || ! identity[0] || ! strcmp(line, identity)) {\n",
      "                                              ^~~~~~\n",
      "/app/pkcs11-proxy/gck-rpc-tls-psk.c: In function 'gck_rpc_init_tls_psk':\n",
      "/app/pkcs11-proxy/gck-rpc-tls-psk.c:268:2: warning: 'TLSv1_2_method' is deprecated [-Wdeprecated-declarations]\n",
      "  state->ssl_ctx = SSL_CTX_new(TLSv1_2_method());\n",
      "  ^~~~~\n",
      "In file included from /usr/include/openssl/e_os2.h:13,\n",
      "                 from /usr/include/openssl/bio.h:13,\n",
      "                 from /app/pkcs11-proxy/gck-rpc-tls-psk.h:5,\n",
      "                 from /app/pkcs11-proxy/gck-rpc-tls-psk.c:27:\n",
      "/usr/include/openssl/ssl.h:1889:1: note: declared here\n",
      " DEPRECATEDIN_1_1_0(__owur const SSL_METHOD *TLSv1_2_method(void)) /* TLSv1.2 */\n",
      " ^~~~~~~~~~~~~~~~~~\n",
      "[100%] Linking C shared library libpkcs11-proxy.so\n",
      "[100%] Built target pkcs11-proxy\n",
      "[ 60%] Built target pkcs11-daemon\n",
      "[100%] Built target pkcs11-proxy\n",
      "Install the project...\n",
      "-- Install configuration: \"\"\n",
      "-- Installing: /usr/local/bin/pkcs11-daemon\n",
      "-- Installing: /usr/local/lib/libpkcs11-proxy.so.0.1\n",
      "-- Installing: /usr/local/lib/libpkcs11-proxy.so.0\n",
      "-- Installing: /usr/local/lib/libpkcs11-proxy.so\n",
      ":....installing softhsm v2\n",
      "Reading package lists...\n",
      "Building dependency tree...\n",
      "Reading state information...\n",
      "The following additional packages will be installed:\n",
      "  libccid libengine-pkcs11-openssl libevent-2.1-6 libglib2.0-0 libglib2.0-data\n",
      "  libgnutls-dane0 libopts25 libpcsclite1 libsofthsm2 libunbound8 libusb-1.0-0\n",
      "  opensc-pkcs11 p11-kit p11-kit-modules pcscd sensible-utils shared-mime-info\n",
      "  softhsm2-common ucf xdg-user-dirs\n",
      "Suggested packages:\n",
      "  pcmciautils dns-root-data systemd\n",
      "The following NEW packages will be installed:\n",
      "  gnutls-bin libccid libengine-pkcs11-openssl libengine-pkcs11-openssl1.1\n",
      "  libevent-2.1-6 libglib2.0-0 libglib2.0-data libgnutls-dane0 libopts25\n",
      "  libpcsclite1 libsofthsm2 libunbound8 libusb-1.0-0 opensc opensc-pkcs11\n",
      "  p11-kit p11-kit-modules pcscd sensible-utils shared-mime-info softhsm2\n",
      "  softhsm2-common ucf xdg-user-dirs\n",
      "0 upgraded, 24 newly installed, 0 to remove and 0 not upgraded.\n",
      "Need to get 7444 kB of archives.\n",
      "After this operation, 30.6 MB of additional disk space will be used.\n",
      "Get:1 http://deb.debian.org/debian buster/main amd64 sensible-utils all 0.0.12 [15.8 kB]\n",
      "Get:2 http://deb.debian.org/debian buster/main amd64 ucf all 3.0038+nmu1 [69.0 kB]\n",
      "Get:3 http://deb.debian.org/debian buster/main amd64 libevent-2.1-6 amd64 2.1.8-stable-4 [177 kB]\n",
      "Get:4 http://deb.debian.org/debian buster/main amd64 libunbound8 amd64 1.9.0-2+deb10u2 [462 kB]\n",
      "Get:5 http://deb.debian.org/debian buster/main amd64 libgnutls-dane0 amd64 3.6.7-4+deb10u7 [317 kB]\n",
      "Get:6 http://deb.debian.org/debian buster/main amd64 libopts25 amd64 1:5.18.12-4 [69.4 kB]\n",
      "Get:7 http://deb.debian.org/debian buster/main amd64 gnutls-bin amd64 3.6.7-4+deb10u7 [559 kB]\n",
      "Get:8 http://deb.debian.org/debian buster/main amd64 libusb-1.0-0 amd64 2:1.0.22-2 [55.3 kB]\n",
      "Get:9 http://deb.debian.org/debian buster/main amd64 libccid amd64 1.4.30-1 [334 kB]\n",
      "Get:10 http://deb.debian.org/debian buster/main amd64 p11-kit-modules amd64 0.23.15-2+deb10u1 [222 kB]\n",
      "Get:11 http://deb.debian.org/debian buster/main amd64 p11-kit amd64 0.23.15-2+deb10u1 [268 kB]\n",
      "Get:12 http://deb.debian.org/debian buster/main amd64 libengine-pkcs11-openssl amd64 0.4.9-4 [33.9 kB]\n",
      "Get:13 http://deb.debian.org/debian buster/main amd64 libengine-pkcs11-openssl1.1 amd64 0.4.9-4 [5284 B]\n",
      "Get:14 http://deb.debian.org/debian buster/main amd64 libglib2.0-0 amd64 2.58.3-2+deb10u3 [1259 kB]\n",
      "Get:15 http://deb.debian.org/debian buster/main amd64 libglib2.0-data all 2.58.3-2+deb10u3 [1111 kB]\n",
      "Get:16 http://deb.debian.org/debian buster/main amd64 libpcsclite1 amd64 1.8.24-1 [58.5 kB]\n",
      "Get:17 http://deb.debian.org/debian buster/main amd64 softhsm2-common amd64 2.4.0-0.1 [13.7 kB]\n",
      "Get:18 http://deb.debian.org/debian buster/main amd64 libsofthsm2 amd64 2.4.0-0.1 [217 kB]\n",
      "Get:19 http://deb.debian.org/debian buster/main amd64 opensc-pkcs11 amd64 0.19.0-1 [826 kB]\n",
      "Get:20 http://deb.debian.org/debian buster/main amd64 opensc amd64 0.19.0-1 [305 kB]\n",
      "Get:21 http://deb.debian.org/debian buster/main amd64 pcscd amd64 1.8.24-1 [95.3 kB]\n",
      "Get:22 http://deb.debian.org/debian buster/main amd64 shared-mime-info amd64 1.10-1 [766 kB]\n",
      "Get:23 http://deb.debian.org/debian buster/main amd64 softhsm2 amd64 2.4.0-0.1 [150 kB]\n",
      "Get:24 http://deb.debian.org/debian buster/main amd64 xdg-user-dirs amd64 0.17-2 [53.8 kB]\n",
      "debconf: delaying package configuration, since apt-utils is not installed\n",
      "Fetched 7444 kB in 1s (6318 kB/s)\n",
      "Selecting previously unselected package sensible-utils.\n",
      "(Reading database ... 19723 files and directories currently installed.)\n",
      "Preparing to unpack .../00-sensible-utils_0.0.12_all.deb ...\n",
      "Unpacking sensible-utils (0.0.12) ...\n",
      "Selecting previously unselected package ucf.\n",
      "Preparing to unpack .../01-ucf_3.0038+nmu1_all.deb ...\n",
      "Moving old data out of the way\n",
      "Unpacking ucf (3.0038+nmu1) ...\n",
      "Selecting previously unselected package libevent-2.1-6:amd64.\n",
      "Preparing to unpack .../02-libevent-2.1-6_2.1.8-stable-4_amd64.deb ...\n",
      "Unpacking libevent-2.1-6:amd64 (2.1.8-stable-4) ...\n",
      "Selecting previously unselected package libunbound8:amd64.\n",
      "Preparing to unpack .../03-libunbound8_1.9.0-2+deb10u2_amd64.deb ...\n",
      "Unpacking libunbound8:amd64 (1.9.0-2+deb10u2) ...\n",
      "Selecting previously unselected package libgnutls-dane0:amd64.\n",
      "Preparing to unpack .../04-libgnutls-dane0_3.6.7-4+deb10u7_amd64.deb ...\n",
      "Unpacking libgnutls-dane0:amd64 (3.6.7-4+deb10u7) ...\n",
      "Selecting previously unselected package libopts25:amd64.\n",
      "Preparing to unpack .../05-libopts25_1%3a5.18.12-4_amd64.deb ...\n",
      "Unpacking libopts25:amd64 (1:5.18.12-4) ...\n",
      "Selecting previously unselected package gnutls-bin.\n",
      "Preparing to unpack .../06-gnutls-bin_3.6.7-4+deb10u7_amd64.deb ...\n",
      "Unpacking gnutls-bin (3.6.7-4+deb10u7) ...\n",
      "Selecting previously unselected package libusb-1.0-0:amd64.\n",
      "Preparing to unpack .../07-libusb-1.0-0_2%3a1.0.22-2_amd64.deb ...\n",
      "Unpacking libusb-1.0-0:amd64 (2:1.0.22-2) ...\n",
      "Selecting previously unselected package libccid.\n",
      "Preparing to unpack .../08-libccid_1.4.30-1_amd64.deb ...\n",
      "Unpacking libccid (1.4.30-1) ...\n",
      "Selecting previously unselected package p11-kit-modules:amd64.\n",
      "Preparing to unpack .../09-p11-kit-modules_0.23.15-2+deb10u1_amd64.deb ...\n",
      "Unpacking p11-kit-modules:amd64 (0.23.15-2+deb10u1) ...\n",
      "Selecting previously unselected package p11-kit.\n",
      "Preparing to unpack .../10-p11-kit_0.23.15-2+deb10u1_amd64.deb ...\n",
      "Unpacking p11-kit (0.23.15-2+deb10u1) ...\n",
      "Selecting previously unselected package libengine-pkcs11-openssl:amd64.\n",
      "Preparing to unpack .../11-libengine-pkcs11-openssl_0.4.9-4_amd64.deb ...\n",
      "Unpacking libengine-pkcs11-openssl:amd64 (0.4.9-4) ...\n",
      "Selecting previously unselected package libengine-pkcs11-openssl1.1:amd64.\n",
      "Preparing to unpack .../12-libengine-pkcs11-openssl1.1_0.4.9-4_amd64.deb ...\n",
      "Unpacking libengine-pkcs11-openssl1.1:amd64 (0.4.9-4) ...\n",
      "Selecting previously unselected package libglib2.0-0:amd64.\n",
      "Preparing to unpack .../13-libglib2.0-0_2.58.3-2+deb10u3_amd64.deb ...\n",
      "Unpacking libglib2.0-0:amd64 (2.58.3-2+deb10u3) ...\n",
      "Selecting previously unselected package libglib2.0-data.\n",
      "Preparing to unpack .../14-libglib2.0-data_2.58.3-2+deb10u3_all.deb ...\n",
      "Unpacking libglib2.0-data (2.58.3-2+deb10u3) ...\n",
      "Selecting previously unselected package libpcsclite1:amd64.\n",
      "Preparing to unpack .../15-libpcsclite1_1.8.24-1_amd64.deb ...\n",
      "Unpacking libpcsclite1:amd64 (1.8.24-1) ...\n",
      "Selecting previously unselected package softhsm2-common.\n",
      "Preparing to unpack .../16-softhsm2-common_2.4.0-0.1_amd64.deb ...\n",
      "Unpacking softhsm2-common (2.4.0-0.1) ...\n",
      "Selecting previously unselected package libsofthsm2.\n",
      "Preparing to unpack .../17-libsofthsm2_2.4.0-0.1_amd64.deb ...\n",
      "Unpacking libsofthsm2 (2.4.0-0.1) ...\n",
      "Selecting previously unselected package opensc-pkcs11:amd64.\n",
      "Preparing to unpack .../18-opensc-pkcs11_0.19.0-1_amd64.deb ...\n",
      "Unpacking opensc-pkcs11:amd64 (0.19.0-1) ...\n",
      "Selecting previously unselected package opensc.\n",
      "Preparing to unpack .../19-opensc_0.19.0-1_amd64.deb ...\n",
      "Unpacking opensc (0.19.0-1) ...\n",
      "Selecting previously unselected package pcscd.\n",
      "Preparing to unpack .../20-pcscd_1.8.24-1_amd64.deb ...\n",
      "Unpacking pcscd (1.8.24-1) ...\n",
      "Selecting previously unselected package shared-mime-info.\n",
      "Preparing to unpack .../21-shared-mime-info_1.10-1_amd64.deb ...\n",
      "Unpacking shared-mime-info (1.10-1) ...\n",
      "Selecting previously unselected package softhsm2.\n",
      "Preparing to unpack .../22-softhsm2_2.4.0-0.1_amd64.deb ...\n",
      "Unpacking softhsm2 (2.4.0-0.1) ...\n",
      "Selecting previously unselected package xdg-user-dirs.\n",
      "Preparing to unpack .../23-xdg-user-dirs_0.17-2_amd64.deb ...\n",
      "Unpacking xdg-user-dirs (0.17-2) ...\n",
      "Setting up xdg-user-dirs (0.17-2) ...\n",
      "Setting up libglib2.0-0:amd64 (2.58.3-2+deb10u3) ...\n",
      "No schema files found: doing nothing.\n",
      "Setting up libopts25:amd64 (1:5.18.12-4) ...\n",
      "Setting up opensc-pkcs11:amd64 (0.19.0-1) ...\n",
      "Setting up p11-kit-modules:amd64 (0.23.15-2+deb10u1) ...\n",
      "Setting up libglib2.0-data (2.58.3-2+deb10u3) ...\n",
      "Setting up shared-mime-info (1.10-1) ...\n",
      "Setting up libpcsclite1:amd64 (1.8.24-1) ...\n",
      "Setting up libevent-2.1-6:amd64 (2.1.8-stable-4) ...\n",
      "Setting up sensible-utils (0.0.12) ...\n",
      "Setting up libusb-1.0-0:amd64 (2:1.0.22-2) ...\n",
      "Setting up p11-kit (0.23.15-2+deb10u1) ...\n",
      "Setting up libccid (1.4.30-1) ...\n",
      "Setting up opensc (0.19.0-1) ...\n",
      "Setting up pcscd (1.8.24-1) ...\n",
      "invoke-rc.d: could not determine current runlevel\n",
      "invoke-rc.d: policy-rc.d denied execution of start.\n",
      "Setting up libengine-pkcs11-openssl:amd64 (0.4.9-4) ...\n",
      "Setting up libunbound8:amd64 (1.9.0-2+deb10u2) ...\n",
      "Setting up ucf (3.0038+nmu1) ...\n",
      "debconf: unable to initialize frontend: Dialog\n",
      "debconf: (TERM is not set, so the dialog frontend is not usable.)\n",
      "debconf: falling back to frontend: Readline\n",
      "Setting up libgnutls-dane0:amd64 (3.6.7-4+deb10u7) ...\n",
      "Setting up softhsm2-common (2.4.0-0.1) ...\n",
      "debconf: unable to initialize frontend: Dialog\n",
      "debconf: (TERM is not set, so the dialog frontend is not usable.)\n",
      "debconf: falling back to frontend: Readline\n",
      "\n",
      "Creating config file /etc/softhsm/softhsm2.conf with new version\n",
      "Setting up libengine-pkcs11-openssl1.1:amd64 (0.4.9-4) ...\n",
      "Setting up gnutls-bin (3.6.7-4+deb10u7) ...\n",
      "Setting up libsofthsm2 (2.4.0-0.1) ...\n",
      "Setting up softhsm2 (2.4.0-0.1) ...\n",
      "Processing triggers for libc-bin (2.28-10) ...\n",
      ":...initializing token\n",
      "The token has been initialized and is reassigned to slot 299555966\n",
      ":...launching proxy\n",
      "--------setup complete------------\n",
      "\u001b[?2004h"
     ]
    },
    {
     "ename": "",
     "evalue": "1",
     "output_type": "error",
     "traceback": []
    }
   ],
   "source": [
    "## run the setup script from above\n",
    "docker exec -i --user root SoftHSM sh -c '/config/setup_hsm.sh'"
   ]
  },
  {
   "cell_type": "markdown",
   "id": "fb4bd81b-b987-4328-af8e-2126255626ad",
   "metadata": {},
   "source": [
    "The SoftHSM PKCS#11 shared library will be installed to `/usr/lib/softhsm` by default on Debian. You can do a quick verification of its presence to ensure that it's where we expect it to be:\n",
    "\n",
    "```\n",
    "docker exec -i --user root SoftHSM ls -lh /usr/lib/softhsm/\n",
    "total 0\n",
    "lrwxrwxrwx 1 root root 42 Mar 25  2018 libsofthsm2.so -> ../x86_64-linux-gnu/softhsm/libsofthsm2.so\n",
    "```"
   ]
  },
  {
   "cell_type": "code",
   "execution_count": null,
   "id": "595cf430-6a36-48e4-a5e3-db67e1d1e533",
   "metadata": {},
   "outputs": [],
   "source": [
    "## OPTIONAL create a new slot for the unseal (only done once. if you reuse direc\n",
    "# docker exec -i --user root SoftHSM sh -c 'softhsm2-util --init-token --slot 0 --"
   ]
  },
  {
   "cell_type": "markdown",
   "id": "32d5929e-ccf0-4278-9a66-5e8b31748457",
   "metadata": {},
   "source": [
    "### Show current state of HSM."
   ]
  },
  {
   "cell_type": "code",
   "execution_count": 9,
   "id": "8af92458-4385-4ce9-87e8-3ed873e2815c",
   "metadata": {},
   "outputs": [
    {
     "name": "stdout",
     "output_type": "stream",
     "text": [
      "Available slots:\n",
      "Slot 299555966\n",
      "    Slot info:\n",
      "        Description:      SoftHSM slot ID 0x11dadc7e                                      \n",
      "        Manufacturer ID:  SoftHSM project                 \n",
      "        Hardware version: 2.4\n",
      "        Firmware version: 2.4\n",
      "        Token present:    yes\n",
      "    Token info:\n",
      "        Manufacturer ID:  SoftHSM project                 \n",
      "        Model:            SoftHSM v2      \n",
      "        Hardware version: 2.4\n",
      "        Firmware version: 2.4\n",
      "        Serial number:    602465f711dadc7e\n",
      "        Initialized:      yes\n",
      "        User PIN init.:   yes\n",
      "        Label:            main                            \n",
      "Slot 1\n",
      "    Slot info:\n",
      "        Description:      SoftHSM slot ID 0x1                                             \n",
      "        Manufacturer ID:  SoftHSM project                 \n",
      "        Hardware version: 2.4\n",
      "        Firmware version: 2.4\n",
      "        Token present:    yes\n",
      "    Token info:\n",
      "        Manufacturer ID:  SoftHSM project                 \n",
      "        Model:            SoftHSM v2      \n",
      "        Hardware version: 2.4\n",
      "        Firmware version: 2.4\n",
      "        Serial number:                    \n",
      "        Initialized:      no\n",
      "        User PIN init.:   no\n",
      "        Label:                                            \n",
      "\u001b[?2004h"
     ]
    },
    {
     "ename": "",
     "evalue": "1",
     "output_type": "error",
     "traceback": []
    }
   ],
   "source": [
    "## list the slots\n",
    "docker exec -i --user root SoftHSM softhsm2-util --show-slots"
   ]
  },
  {
   "cell_type": "markdown",
   "id": "cf301ed5-3bb0-4c50-8ada-5fb3788c101d",
   "metadata": {},
   "source": [
    "### !!! Following command was truncated"
   ]
  },
  {
   "cell_type": "code",
   "execution_count": 34,
   "id": "5dc9b572-bfdf-4107-abce-e402634da763",
   "metadata": {},
   "outputs": [
    {
     "name": "stdout",
     "output_type": "stream",
     "text": [
      "299555966[?2004l\u001b[?2004l\u001b[?2004l\n",
      "\u001b[?2004h"
     ]
    },
    {
     "ename": "",
     "evalue": "1",
     "output_type": "error",
     "traceback": []
    }
   ],
   "source": [
    "## Select HSM Slot for Vault\n",
    "VAULT_HSM_SLOT=$(docker exec -i --user root SoftHSM softhsm2-util --show-slots \\\n",
    "    | egrep \"^Slot ..\" | awk '{print $NF}')\n",
    "echo $VAULT_HSM_SLOT"
   ]
  },
  {
   "cell_type": "markdown",
   "id": "60acf24b-b76e-4141-9c5b-9bbd7ad46d5b",
   "metadata": {},
   "source": [
    "## Configure Vault Enterprise"
   ]
  },
  {
   "cell_type": "markdown",
   "id": "8ad3f4c9-34b1-4118-b938-082cf0d452d1",
   "metadata": {},
   "source": [
    "## Supported Encryption/Decryption Mechanisms\n",
    "\n",
    "A very important piece of information you need to obtain about your HSM library is the\n",
    "supported mechanisms. Particularly what encryption/decryption is supported. For example -\n",
    "this is the output of the `libpkcs11-proxy` library when you test logging into the slot:\n",
    "\n",
    "\n",
    "```\n",
    "# docker exec -it --user root SoftHSM bash\n",
    "# pkcs11-tool --module=/usr/lib/softhsm/libsofthsm2.so -l -t\n",
    "Using slot 0 with a present token (0x425969ad)\n",
    "Logging in to \"main\".\n",
    "Please enter User PIN:\n",
    "C_SeedRandom() and C_GenerateRandom():\n",
    "    seems to be OK\n",
    "Digests:\n",
    "    all 4 digest functions seem to work\n",
    "    MD5: OK\n",
    "    SHA-1: OK\n",
    "Signatures: not implemented\n",
    "Verify (currently only for RSA)\n",
    "  testing key 0 (main)\n",
    "    RSA-X-509: OK\n",
    "    RSA-PKCS: OK\n",
    "    SHA1-RSA-PKCS: OK\n",
    "    MD5-RSA-PKCS: OK\n",
    "Unwrap: not implemented\n",
    "Decryption (currently only for RSA)\n",
    "  testing key 0 (main)\n",
    "    RSA-PKCS: OK\n",
    "    RSA-X-509: OK\n",
    "error: PKCS11 function C_DecryptInit failed: rv = CKR_ARGUMENTS_BAD\n",
    "(0x7)\n",
    "Aborting.\n",
    "    RSA-PKCS-OAEP:\n",
    "```\n",
    "\n",
    "Notice\n",
    "\n",
    "* RSA-PKCS-OAEP fails (in Vault this is mechanism 0x9) but here are Vault's supported mechanisms (notice where we match)\n",
    "\n",
    "```\n",
    "0x1085 CKM_AES_CBC_PAD (HMAC mechanism required)\n",
    "0x1082 CKM_AES_CBC (HMAC mechanism required)\n",
    "0x1087 CKM_AES_GCM\n",
    "0x0009 CKM_RSA_PKCS_OAEP\n",
    "0x0001 CKM_RSA_PKCS\n",
    "```\n",
    "\n",
    "Our only option here is `0x0001 CKM_RSA_PKCS` passed as the string \"`0x1`\"\n",
    "\n",
    "As for the HMAC Mechanism we ONLY SUPPORT `CKM_SHA256_HMAC` which is passed as \"`0x0251`\"\n",
    "\n",
    "Therefore we use this information in configuring Vault. We need a new config file for Vault \n",
    "\n",
    "Here is the config we will use to start up vault"
   ]
  },
  {
   "cell_type": "markdown",
   "id": "51132e94-eda6-454f-9f74-10f116a56c4f",
   "metadata": {},
   "source": [
    "### Vault Config File\n",
    "\n",
    "We'll be using the most minimal non-developer-mode Vault configuration possible for this guide: \n",
    "* Run the Vault server with the `file` storage backend \n",
    "* Specifying the required HSM configuration.\n",
    "\n",
    "Create a minimal Vault HSM configuration. Make sure to use the correct value for slot as shown in the `softhsm2-util --show-slots` command output and the correct path for your `libsofthsm2.so` file."
   ]
  },
  {
   "cell_type": "code",
   "execution_count": 35,
   "id": "81a0ef9e-9228-4765-87e5-9df2c4f29f5e",
   "metadata": {},
   "outputs": [
    {
     "name": "stdout",
     "output_type": "stream",
     "text": [
      "\u001b[?2004h\u001b[?2004l\u001b[?2004l\u001b[?2004l\u001b[?2004l\u001b[?2004l\u001b[?2004l\u001b[?2004l\u001b[?2004l\u001b[?2004l\u001b[?2004l\u001b[?2004l\u001b[?2004l\u001b[?2004l\u001b[?2004l\u001b[?2004l\u001b[?2004l\u001b[?2004l\u001b[?2004l\u001b[?2004l\u001b[?2004l"
     ]
    },
    {
     "ename": "",
     "evalue": "1",
     "output_type": "error",
     "traceback": []
    }
   ],
   "source": [
    "## Create the config file\n",
    "cat << EOF > $WORKDIR/hsm/config/unseal.hcl\n",
    "listener \"tcp\" {\n",
    "    address = \"0.0.0.0:8200\"\n",
    "    tls_disable = \"true\"\n",
    "}\n",
    "# Configure the storage backend for Vault\n",
    "storage \"file\" {\n",
    "    path = \"/home/vault/data\"\n",
    "}\n",
    "seal \"pkcs11\" {\n",
    "    lib = \"/usr/local/lib/libpkcs11-proxy.so\"\n",
    "    pin = \"1234567890\"\n",
    "    slot = \"${VAULT_HSM_SLOT}\"\n",
    "    key_label = \"main\"\n",
    "    hmac_key_label = \"hmac-key\"\n",
    "    mechanism = \"0x1\"\n",
    "    hmac_mechanism = \"0x0251\"\n",
    "    generate_key = \"true\"\n",
    "}\n",
    "ui = true\n",
    "EOF"
   ]
  },
  {
   "cell_type": "markdown",
   "id": "a9f37c76-7d6e-481a-a911-b7815c6bd6e5",
   "metadata": {},
   "source": [
    "The storage backend is set to the local file system (`/home/vault/data`) to make the verification step easy.\n",
    "\n",
    "The example configuration defines the following in its seal stanza:\n",
    "\n",
    "* `lib` - Path to the PKCS #11 library on the virtual machine where Vault Enterprise is installed.\n",
    "* `slot` - The slot number to use. We set this via an env var.\n",
    "* `pin` - PKCS #11 PIN for login. This was set in the `setup_hsm.sh` script.\n",
    "* `key_label` - Defines the label of the key you want to use.\n",
    "* `hmac_key_label` - Defines the label of the key you want to use for HMACing.\n",
    "* `generate_key` - If no existing key with the label specified by key_label can be found at Vault initialization time, Vault generates a key."
   ]
  },
  {
   "cell_type": "code",
   "execution_count": 15,
   "id": "eb90f6bd-704e-4f39-9409-017c92606c5a",
   "metadata": {},
   "outputs": [
    {
     "name": "stdout",
     "output_type": "stream",
     "text": [
      "--2021-07-01 13:21:32--  https://releases.hashicorp.com/vault/1.7.2+ent.hsm/vault_1.7.2+ent.hsm_linux_amd64.zip\n",
      "Resolving releases.hashicorp.com (releases.hashicorp.com)... 151.101.1.183, 151.101.65.183, 151.101.129.183, ...\n",
      "Connecting to releases.hashicorp.com (releases.hashicorp.com)|151.101.1.183|:443... connected.\n",
      "HTTP request sent, awaiting response... 416 Range Not Satisfiable\n",
      "\n",
      "    The file is already fully retrieved; nothing to do.\n",
      "\n",
      "Archive:  vault_1.7.2+ent.hsm_linux_amd64.zip\n",
      "  inflating: config/vault/hsm/bin/vault  \n",
      "\u001b[?2004h\u001b[?2004l"
     ]
    },
    {
     "ename": "",
     "evalue": "1",
     "output_type": "error",
     "traceback": []
    }
   ],
   "source": [
    "VAULT_VER=1.7.2\n",
    "## pull down the vault binary needed\n",
    "wget -c https://releases.hashicorp.com/vault/${VAULT_VER}+ent.hsm/vault_${VAULT_VER}+ent.hsm_linux_amd64.zip\n",
    "\n",
    "# unzip and remove the zip file\n",
    "unzip -d config/vault/hsm/bin/ vault_${VAULT_VER}+ent.hsm_linux_amd64.zip\n",
    "# rm hsm/bin/vault_1.6.2+ent.hsm_linux_amd64.zip"
   ]
  },
  {
   "cell_type": "markdown",
   "id": "5ba610b5-3763-4c72-a14c-53d8d2c1a450",
   "metadata": {},
   "source": [
    "## Create Vault Container"
   ]
  },
  {
   "cell_type": "code",
   "execution_count": 22,
   "id": "0e12eb94-198d-4b90-9fe3-e6ca6d0b612b",
   "metadata": {},
   "outputs": [
    {
     "name": "stdout",
     "output_type": "stream",
     "text": [
      "Error response from daemon: No such container: hcvault\n",
      "Error: No such container: hcvault\n",
      "1320888b0e1ef9ef23eb71fdaa1ff6c74c728f45bc3f8e0a5ba83f862a0cea46\u001b[?2004l\u001b[?2004l\u001b[?2004l\u001b[?2004l\n",
      "\u001b[?2004h"
     ]
    },
    {
     "ename": "",
     "evalue": "1",
     "output_type": "error",
     "traceback": []
    }
   ],
   "source": [
    "## Vault container - in same network as the HSM\n",
    "docker stop hcvault || true\n",
    "docker rm hcvault\n",
    "docker run \\\n",
    "    --rm -d \\\n",
    "    --name hcvault \\\n",
    "    --network hsmnetwork \\\n",
    "    --cap-add IPC_LOCK \\\n",
    "    -p 8200:8200 \\\n",
    "    -h vaultsvr \\\n",
    "    -e VAULT_ADDR=http://127.0.0.1:8200 \\\n",
    "    -v $WORKDIR/hsm/config:/config \\\n",
    "    -v $WORKDIR/hsm/bin:/usr/local/bin \\\n",
    "    bitnami/nginx:latest"
   ]
  },
  {
   "cell_type": "code",
   "execution_count": null,
   "id": "beab9a87-69de-46bf-b130-ce2c3d3e1d04",
   "metadata": {},
   "outputs": [],
   "source": [
    "# docker start hcvault"
   ]
  },
  {
   "cell_type": "markdown",
   "id": "68eaff3f-fe70-438f-8a70-273e91fd31b2",
   "metadata": {},
   "source": [
    "Verify Vault binary is an Enterprise+HSM version:"
   ]
  },
  {
   "cell_type": "code",
   "execution_count": 153,
   "id": "c1edba35-ad0e-414f-8edf-b38f2d84d81a",
   "metadata": {},
   "outputs": [
    {
     "name": "stdout",
     "output_type": "stream",
     "text": [
      "\u001b[0mVault v1.7.2+ent.hsm (0e2ed0c723715690ce84695805e84e00466909c0) (cgo)\u001b[0m\n",
      "\u001b[?2004h"
     ]
    },
    {
     "ename": "",
     "evalue": "1",
     "output_type": "error",
     "traceback": []
    }
   ],
   "source": [
    "docker exec -it --user root hcvault vault version"
   ]
  },
  {
   "cell_type": "markdown",
   "id": "4c702a37-0219-4830-8117-ae96af6f5d3f",
   "metadata": {},
   "source": [
    "### hcvault"
   ]
  },
  {
   "cell_type": "code",
   "execution_count": 23,
   "id": "b12d88f5-856f-4f25-ab39-431a71f74239",
   "metadata": {
    "tags": []
   },
   "outputs": [
    {
     "name": "stdout",
     "output_type": "stream",
     "text": [
      "--------setting up the Vault instance------------\n",
      ":...setup vault data directories\n",
      ":... installing proxy deps before build\n",
      "Hit:1 http://security.debian.org buster/updates InRelease\n",
      "Hit:2 http://deb.debian.org/debian buster InRelease\n",
      "Reading package lists...\n",
      "Reading package lists...\n",
      "Building dependency tree...\n",
      "Reading state information...\n",
      "build-essential is already the newest version (12.6).\n",
      "ca-certificates is already the newest version (20200601~deb10u2).\n",
      "cmake is already the newest version (3.13.4-1).\n",
      "git is already the newest version (1:2.20.1-2+deb10u3).\n",
      "libseccomp-dev is already the newest version (2.3.3-4).\n",
      "libltdl-dev is already the newest version (2.4.6-9).\n",
      "libssl-dev is already the newest version (1.1.1d-0+deb10u6).\n",
      "0 upgraded, 0 newly installed, 0 to remove and 0 not upgraded.\n",
      ":... pulling proxy code from github\n",
      "fatal: destination path 'pkcs11-proxy' already exists and is not an empty directory.\n",
      ":...building the proxy...\n",
      "-- Configuring done\n",
      "-- Generating done\n",
      "-- Build files have been written to: /app/pkcs11-proxy\n",
      "[ 60%] Built target pkcs11-daemon\n",
      "[100%] Built target pkcs11-proxy\n",
      "[ 60%] Built target pkcs11-daemon\n",
      "[100%] Built target pkcs11-proxy\n",
      "Install the project...\n",
      "-- Install configuration: \"\"\n",
      "-- Up-to-date: /usr/local/bin/pkcs11-daemon\n",
      "-- Up-to-date: /usr/local/lib/libpkcs11-proxy.so.0.1\n",
      "-- Up-to-date: /usr/local/lib/libpkcs11-proxy.so.0\n",
      "-- Up-to-date: /usr/local/lib/libpkcs11-proxy.so\n",
      ":....installing pkcs11-tool\n",
      "Reading package lists...\n",
      "Building dependency tree...\n",
      "Reading state information...\n",
      "gnutls-bin is already the newest version (3.6.7-4+deb10u7).\n",
      "libengine-pkcs11-openssl1.1 is already the newest version (0.4.9-4).\n",
      "opensc is already the newest version (0.19.0-1).\n",
      "0 upgraded, 0 newly installed, 0 to remove and 0 not upgraded.\n",
      ":...test out that you can reach the HSM slot/token\n",
      "Available slots:\n",
      "Slot 0 (0x11dadc7e): SoftHSM slot ID 0x11dadc7e\n",
      "  token label        : main\n",
      "  token manufacturer : SoftHSM project\n",
      "  token model        : SoftHSM v2\n",
      "  token flags        : login required, rng, token initialized, PIN initialized, other flags=0x20\n",
      "  hardware version   : 2.4\n",
      "  firmware version   : 2.4\n",
      "  serial num         : 602465f711dadc7e\n",
      "  pin min/max        : 4/255\n",
      "Slot 1 (0x1): SoftHSM slot ID 0x1\n",
      "  token state:   uninitialized\n",
      "--------setup complete------------\n",
      "\u001b[?2004h"
     ]
    },
    {
     "ename": "",
     "evalue": "1",
     "output_type": "error",
     "traceback": []
    }
   ],
   "source": [
    "## run the setup script for vault from above\n",
    "docker exec -i --user root hcvault sh -c '/config/setup_vault.sh'"
   ]
  },
  {
   "cell_type": "markdown",
   "id": "e04a81d9-9f3c-4e46-9ea3-818030074884",
   "metadata": {},
   "source": [
    "## Start Vault through a shell\n",
    "\n",
    "You will need to first set the following:"
   ]
  },
  {
   "cell_type": "code",
   "execution_count": 156,
   "id": "f8032aed-9c0e-42a7-92c8-7bc16e97e47b",
   "metadata": {},
   "outputs": [
    {
     "name": "stdout",
     "output_type": "stream",
     "text": [
      "\u001b[?2004h\u001b[?2004l\u001b[?2004l\u001b[?2004l\u001b[?2004l\u001b[?2004l"
     ]
    },
    {
     "ename": "",
     "evalue": "1",
     "output_type": "error",
     "traceback": []
    }
   ],
   "source": [
    "# optional\n",
    "cat <<EOF | docker exec -i --user root hcvault sh\n",
    "pkill vault\n",
    "rm -rf /home/vault/data\n",
    "mkdir -p /home/vault/data\n",
    "EOF"
   ]
  },
  {
   "cell_type": "code",
   "execution_count": 157,
   "id": "b8de7295-3895-4ba3-b46f-6dcdeb4b51be",
   "metadata": {},
   "outputs": [
    {
     "name": "stdout",
     "output_type": "stream",
     "text": [
      "\u001b[?2004h\u001b[?2004l\u001b[?2004l\u001b[?2004l\u001b[?2004l\u001b[?2004l\u001b[?2004l\u001b[?2004l"
     ]
    },
    {
     "ename": "",
     "evalue": "1",
     "output_type": "error",
     "traceback": []
    }
   ],
   "source": [
    "cat <<EOF | docker exec -i --user root hcvault sh\n",
    "## env variables required to setup\n",
    "export PKCS11_PROXY_SOCKET=\"tcp://HSM:5657\"\n",
    "export VAULT_HSM_LIB=\"/usr/local/lib/libpkcs11-proxy.so\"\n",
    "export VAULT_HSM_TYPE=\"pkcs11\"\n",
    "## then start vault with\n",
    "vault server -log-level=trace -config=/config/unseal.hcl > vault.log 2>&1 &\n",
    "EOF"
   ]
  },
  {
   "cell_type": "code",
   "execution_count": 25,
   "id": "0c6974e5-c789-4069-adc5-f474d7ba685d",
   "metadata": {},
   "outputs": [
    {
     "name": "stdout",
     "output_type": "stream",
     "text": [
      "\u001b[?2004h\u001b[?2004l\u001b[?2004l\u001b[?2004l"
     ]
    },
    {
     "ename": "",
     "evalue": "1",
     "output_type": "error",
     "traceback": []
    }
   ],
   "source": [
    "## env variables required to setup\n",
    "export PKCS11_PROXY_SOCKET=\"tcp://HSM:5657\"\n",
    "export VAULT_HSM_LIB=\"/usr/local/lib/libpkcs11-proxy.so\"\n",
    "export VAULT_HSM_TYPE=\"pkcs11\""
   ]
  },
  {
   "cell_type": "code",
   "execution_count": null,
   "id": "2f522020-a3ca-4c74-8ad5-86697d2cf2d2",
   "metadata": {},
   "outputs": [],
   "source": [
    "## then start vault with\n",
    "vault server -log-level=trace -config=/config/unseal.hcl > vault.log 2>&1 &"
   ]
  },
  {
   "cell_type": "markdown",
   "id": "727ecc66-7523-4384-b56a-e6e119d2d732",
   "metadata": {},
   "source": [
    "### Initialize Vault"
   ]
  },
  {
   "cell_type": "code",
   "execution_count": 41,
   "id": "af042196-ee47-4025-8b69-5b7658117744",
   "metadata": {},
   "outputs": [
    {
     "name": "stdout",
     "output_type": "stream",
     "text": [
      "\u001b[?2004h"
     ]
    },
    {
     "ename": "",
     "evalue": "1",
     "output_type": "error",
     "traceback": []
    }
   ],
   "source": [
    "export VAULT_ADDR=http://127.0.0.1:8200"
   ]
  },
  {
   "cell_type": "code",
   "execution_count": 158,
   "id": "a9d221f6-a376-43eb-bbc8-6f2ab310c2e1",
   "metadata": {},
   "outputs": [
    {
     "name": "stdout",
     "output_type": "stream",
     "text": [
      "Recovery Key 1: 80YgzB3C748taNaNHGh/2s35tiQ5gMCTJNAhK1VAQYY=\n",
      "\n",
      "Initial Root Token: s.Y61EPzC4Op6QhwySkBnd8c1L\n",
      "\n",
      "Success! Vault is initialized\n",
      "\n",
      "Recovery key initialized with 1 key shares and a key threshold of 1. Please\n",
      "securely distribute the key shares printed above.\n",
      "\u001b[?2004h"
     ]
    },
    {
     "ename": "",
     "evalue": "1",
     "output_type": "error",
     "traceback": []
    }
   ],
   "source": [
    "## initialize vault\n",
    "vault operator init -recovery-shares=1 -recovery-threshold=1 | tee config/vault/vault.init"
   ]
  },
  {
   "cell_type": "code",
   "execution_count": 160,
   "id": "624354e8-ef6e-44a2-b82a-80ae6b88091d",
   "metadata": {},
   "outputs": [
    {
     "name": "stdout",
     "output_type": "stream",
     "text": [
      "80YgzB3C748taNaNHGh/2s35tiQ5gMCTJNAhK1VAQYY=\n",
      "s.Y61EPzC4Op6QhwySkBnd8c1L\n",
      "\u001b[?2004h"
     ]
    },
    {
     "ename": "",
     "evalue": "1",
     "output_type": "error",
     "traceback": []
    }
   ],
   "source": [
    "grep \"Key 1\" config/vault/vault.init | awk '{print $NF}'\n",
    "grep \"Token\" config/vault/vault.init | awk '{print $NF}'"
   ]
  },
  {
   "cell_type": "markdown",
   "id": "3125b509-30a6-4311-80a8-c61961fec55f",
   "metadata": {},
   "source": [
    "Sample Output:\n",
    "```\n",
    "Recovery Key 1: jQGToHAW7R1gQXf1yJToSAZK5/2Yl8nSNS48jGOkZmM=\n",
    "Initial Root Token: s.WReLx9GsdHOCVSu1w7yOc0YA\n",
    "Success! Vault is initialized\n",
    "Recovery key initialized with 1 key shares and a key threshold of 1. Please\n",
    "securely distribute the key shares printed above.\n",
    "```"
   ]
  },
  {
   "cell_type": "markdown",
   "id": "3724bc34-fc5c-4567-b87c-f4c37a889484",
   "metadata": {},
   "source": [
    "NOTE: Instead of an unseal key, a recovery key is issued when using an HSM.\n",
    "\n",
    "You can read more about Recovery Keys in the [Vault Enterprise HSM Behavioral Changes documentation](https://www.vaultproject.io/docs/enterprise/hsm/behavior.html)."
   ]
  },
  {
   "cell_type": "code",
   "execution_count": 161,
   "id": "c73ef655-6c6e-481d-a45d-cfee9dafaff7",
   "metadata": {},
   "outputs": [
    {
     "name": "stdout",
     "output_type": "stream",
     "text": [
      "\u001b[0mKey                 Value04l\n",
      "---                 -----\n",
      "accessor            lXNMlDH5g0Mwe2P1MTPPw5fP\n",
      "creation_time       1625266460\n",
      "creation_ttl        0s\n",
      "display_name        root\n",
      "entity_id           n/a\n",
      "expire_time         <nil>\n",
      "explicit_max_ttl    0s\n",
      "id                  s.Y61EPzC4Op6QhwySkBnd8c1L\n",
      "meta                <nil>\n",
      "num_uses            0\n",
      "orphan              true\n",
      "path                auth/token/root\n",
      "policies            [root]\n",
      "ttl                 0s\n",
      "type                service\u001b[0m\n",
      "\u001b[?2004h"
     ]
    },
    {
     "ename": "",
     "evalue": "1",
     "output_type": "error",
     "traceback": []
    }
   ],
   "source": [
    "## you can now log into vault\n",
    "export VAULT_TOKEN=$(grep \"Token\" config/vault/vault.init | awk '{print $NF}')\n",
    "# vault login $VAULT_TOKEN\n",
    "vault token lookup"
   ]
  },
  {
   "cell_type": "markdown",
   "id": "14d0e0f8-1b06-49e8-92f4-ef4bbcf967b1",
   "metadata": {},
   "source": [
    "## Verify - Confirm Vault will unseal using the HSM.\n",
    "\n",
    "Stop and restart Vault."
   ]
  },
  {
   "cell_type": "code",
   "execution_count": 163,
   "id": "77a1fef7-7a8d-4fdd-b083-10d7720ebab4",
   "metadata": {},
   "outputs": [
    {
     "name": "stdout",
     "output_type": "stream",
     "text": [
      "\u001b[?2004h\u001b[?2004l\u001b[?2004l\u001b[?2004l\u001b[?2004l\u001b[?2004l\u001b[?2004l\u001b[?2004l\u001b[?2004l\u001b[?2004l\u001b[?2004l"
     ]
    },
    {
     "ename": "",
     "evalue": "1",
     "output_type": "error",
     "traceback": []
    }
   ],
   "source": [
    "# Stop Vault\n",
    "# docker exec -i --user root hcvault sh -c \"pkill vault\"\n",
    "\n",
    "\n",
    "cat <<EOF | docker exec -i --user root hcvault sh\n",
    "pkill vault && sleep 2\n",
    "export PKCS11_PROXY_SOCKET=\"tcp://HSM:5657\"\n",
    "export VAULT_HSM_LIB=\"/usr/local/lib/libpkcs11-proxy.so\"\n",
    "export VAULT_HSM_TYPE=\"pkcs11\"\n",
    "vault server -log-level=trace -config=/config/unseal.hcl > vault.log 2>&1 &\n",
    "EOF"
   ]
  },
  {
   "cell_type": "markdown",
   "id": "df3284ee-dc04-425a-98ab-7b3a93d0f84a",
   "metadata": {},
   "source": [
    "Confirm Vault is not Sealed."
   ]
  },
  {
   "cell_type": "code",
   "execution_count": 53,
   "id": "4e142ac5-6446-4a57-bd1d-8da273039c14",
   "metadata": {},
   "outputs": [
    {
     "name": "stdout",
     "output_type": "stream",
     "text": [
      "\u001b[0mKey                      Value\n",
      "---                      -----\n",
      "Recovery Seal Type       shamir\n",
      "Initialized              true\n",
      "Sealed                   false\n",
      "Total Recovery Shares    1\n",
      "Threshold                1\n",
      "Version                  1.7.2+ent.hsm\n",
      "Storage Type             file\n",
      "Cluster Name             vault-cluster-8b527c6e\n",
      "Cluster ID               99ff8a1a-795b-6775-4d6a-8631a1541a4a\n",
      "HA Enabled               false\u001b[0m\n",
      "\u001b[?2004h"
     ]
    },
    {
     "ename": "",
     "evalue": "1",
     "output_type": "error",
     "traceback": []
    }
   ],
   "source": [
    "## Status\n",
    "vault status"
   ]
  },
  {
   "cell_type": "markdown",
   "id": "31768ad0-0630-4900-a6c1-9aa75764a1d0",
   "metadata": {},
   "source": [
    "Sample Output:\n",
    "```\n",
    "Key                      Value\n",
    "---                      -----\n",
    "Recovery Seal Type       shamir\n",
    "Initialized              true\n",
    "Sealed                   false\n",
    "Total Recovery Shares    1\n",
    "Threshold                1\n",
    "Version                  1.7.2+ent.hsm\n",
    "Storage Type             file\n",
    "Cluster Name             vault-cluster-8b527c6e\n",
    "Cluster ID               99ff8a1a-795b-6775-4d6a-8631a1541a4a\n",
    "HA Enabled               false\n",
    "```"
   ]
  },
  {
   "cell_type": "markdown",
   "id": "4be3e1aa-5ce1-4c3c-98da-ca4f73540fda",
   "metadata": {},
   "source": [
    "## Use an HSM to manage you Vault Master keys\n",
    "## Choose your sharding options for the key\n",
    "## Automatic Unseal if cluster goes down and back up (no waking sysadmins at 3am !)"
   ]
  },
  {
   "cell_type": "markdown",
   "id": "62b095c8-dae3-4f1f-86a4-c2a2a062be56",
   "metadata": {},
   "source": [
    "## Enable Seal Wrap"
   ]
  },
  {
   "cell_type": "markdown",
   "id": "8c3dabd8-1b1c-4ca8-949a-fdf676a7ebc7",
   "metadata": {},
   "source": [
    "To compare seal wrapped data against unwrapped data, enable key/value v1 secrets engine at two different paths: kv-unwrapped and kv-seal-wrapped."
   ]
  },
  {
   "cell_type": "markdown",
   "id": "744c3037-3c0b-4585-92bc-1a4bb1d1ec84",
   "metadata": {},
   "source": [
    "Enable k/v v1 without seal wrap at kv-unwrapped."
   ]
  },
  {
   "cell_type": "code",
   "execution_count": 55,
   "id": "6644260f-623c-4b81-b26c-c7dc20f5d78c",
   "metadata": {},
   "outputs": [],
   "source": [
    "# Enable k/v v1 without seal wrap at kv-unwrapped.\n",
    "vault secrets enable -path=kv-unwrapped kv\n",
    "\n",
    "# Enable k/v v1 with seal wrap. To do so, use the '-seal-wrap' flag when you enable the KV workflow.\n",
    "vault secrets enable -path=kv-seal-wrapped -seal-wrap kv\n",
    "\n",
    "# To enable seal wrap, pass the -seal-wrap flag when you enable a secrets engine."
   ]
  },
  {
   "cell_type": "code",
   "execution_count": 149,
   "id": "d0d88468-73bc-45d2-a196-cbd32dc1bcfe",
   "metadata": {},
   "outputs": [
    {
     "name": "stdout",
     "output_type": "stream",
     "text": [
      "Path                Plugin       Accessor              Default TTL    Max TTL    Force No Cache    Replication    Seal Wrap    External Entropy Access    Options    Description                                                UUID\n",
      "Path\tPlugin\tAccessor\tReplication\tSeal\tWrap\n",
      "kv-seal-wrapped/\tkv\tkv_b92ab56d\tn/a\t6f43f084-32c3-0772-b503-2a39df5d80e9\t\n",
      "kv-unwrapped/\tkv\tkv_8358cd05\tn/a\t5009c5ea-1525-c79e-2fee-7238c490beab\t\n",
      "kv-seal-wrapped/:\n",
      "  accessor: kv_b92ab56d\n",
      "  config:\n",
      "    default_lease_ttl: 0\n",
      "    force_no_cache: false\n",
      "    max_lease_ttl: 0\n",
      "  description: \"\"\n",
      "  external_entropy_access: false\n",
      "  local: false\n",
      "  options: null\n",
      "  seal_wrap: true\n",
      "  type: kv\n",
      "--\n",
      "kv-unwrapped/:\n",
      "  accessor: kv_8358cd05\n",
      "  config:\n",
      "    default_lease_ttl: 0\n",
      "    force_no_cache: false\n",
      "    max_lease_ttl: 0\n",
      "  description: \"\"\n",
      "  external_entropy_access: false\n",
      "  local: false\n",
      "  options: null\n",
      "  seal_wrap: false\n",
      "  type: kv\n",
      "\u001b[?2004h"
     ]
    },
    {
     "ename": "",
     "evalue": "1",
     "output_type": "error",
     "traceback": []
    }
   ],
   "source": [
    "# List the enabled secrets engines with details.\n",
    "# vault secrets list -detailed -format=yaml\n",
    "vault secrets list -detailed -format=table | head -n1\n",
    "vault secrets list -detailed -format=table | grep -i wrap | awk -F ' ' '{print $1 \"\\t\" $2 \"\\t\" $3 \"\\t\" $11 \"\\t\" $12 \"\\t\" $13}'\n",
    "vault secrets list -detailed -format=yaml | grep -A11 wrapped"
   ]
  },
  {
   "cell_type": "markdown",
   "id": "4b74ecc5-0519-493f-a831-2934cd071c37",
   "metadata": {},
   "source": [
    "Notice that the Seal Wrap parameter value is true for `kv-seal-wrapped`."
   ]
  },
  {
   "cell_type": "code",
   "execution_count": null,
   "id": "76a159f7-5549-4022-a5ba-65ce8c98c122",
   "metadata": {},
   "outputs": [],
   "source": []
  },
  {
   "cell_type": "markdown",
   "id": "89cbd6c3-2759-4f0f-a70a-a383989b94af",
   "metadata": {},
   "source": [
    "In this step, you are going to:\n",
    "\n",
    "* Write some test data\n",
    "* View the encrypted secrets"
   ]
  },
  {
   "cell_type": "code",
   "execution_count": 56,
   "id": "cc16ff6d-4825-4340-838c-40aa4abf53e7",
   "metadata": {},
   "outputs": [
    {
     "name": "stdout",
     "output_type": "stream",
     "text": [
      "\u001b[0mSuccess! Data written to: kv-unwrapped/unwrapped\u001b[0m\n",
      "\u001b[0m====== Data ======\u001b[0m?2004l\n",
      "\u001b[0mKey         Value\n",
      "---         -----\n",
      "password    my-long-password\u001b[0m\n",
      "\u001b[0mSuccess! Data written to: kv-seal-wrapped/wrapped\u001b[0m\n",
      "\u001b[0m====== Data ======\u001b[0m?2004l\n",
      "\u001b[0mKey         Value\n",
      "---         -----\n",
      "password    my-long-password\u001b[0m\n",
      "\u001b[?2004h"
     ]
    },
    {
     "ename": "",
     "evalue": "1",
     "output_type": "error",
     "traceback": []
    }
   ],
   "source": [
    "# Write a secret at kv-unwrapped/unwrapped for testing.\n",
    "\n",
    "vault kv put kv-unwrapped/unwrapped password=\"my-long-password\"\n",
    "\n",
    "# Read the path to verify.\n",
    "vault kv get kv-unwrapped/unwrapped\n",
    "\n",
    "\n",
    "# Write the same secret at kv-seal-wrapped/wrapped for testing.\n",
    "vault kv put kv-seal-wrapped/wrapped password=\"my-long-password\"\n",
    "\n",
    "# Read the path to verify.\n",
    "vault kv get kv-seal-wrapped/wrapped"
   ]
  },
  {
   "cell_type": "markdown",
   "id": "7beba083-57c4-4b12-aa62-a90870a838c9",
   "metadata": {},
   "source": [
    "## Test the Seal Wrap Feature"
   ]
  },
  {
   "cell_type": "markdown",
   "id": "51710c94-ed6b-4e3e-bba2-5ffced3e1a41",
   "metadata": {},
   "source": [
    "### View the encrypted secrets\n",
    "\n",
    "The Vault server was configured to use the local file system (`/home/vault/data`) as its storage backend in this example.\n",
    "\n",
    "```\n",
    "# Configure the storage backend for Vault\n",
    "storage \"file\" {\n",
    "    path = \"/home/vault/data\"\n",
    "}\n",
    "```"
   ]
  },
  {
   "cell_type": "markdown",
   "id": "7dbfc740-6712-493d-a7a9-3d21093df579",
   "metadata": {},
   "source": [
    "Check the stored values in the `/home/vault/data/logical` directory.\n",
    "* There are three sub-directories.\n",
    "* One maps to `kv-unwrapped/` and another maps to `kv-seal-wrapped/` although you cannot tell by the folder names."
   ]
  },
  {
   "cell_type": "code",
   "execution_count": 63,
   "id": "da416bdf-ecf0-4303-ab93-37969c70a8d3",
   "metadata": {},
   "outputs": [
    {
     "name": "stdout",
     "output_type": "stream",
     "text": [
      "/home/vault/data/logical:\n",
      "total 12\n",
      "drwx------ 2 root root 4096 Jul  1 22:28 8d01462c-f12e-0ca2-4143-0175a6a038e8\n",
      "drwx------ 2 root root 4096 Jul  2 00:17 5009c5ea-1525-c79e-2fee-7238c490beab\n",
      "drwx------ 2 root root 4096 Jul  2 00:17 6f43f084-32c3-0772-b503-2a39df5d80e9\n",
      "\n",
      "/home/vault/data/logical/8d01462c-f12e-0ca2-4143-0175a6a038e8:\n",
      "total 4\n",
      "-rw------- 1 root root 105 Jul  1 23:05 _casesensitivity\n",
      "\n",
      "/home/vault/data/logical/5009c5ea-1525-c79e-2fee-7238c490beab:\n",
      "total 4\n",
      "-rw------- 1 root root 101 Jul  2 00:17 _unwrapped\n",
      "\n",
      "/home/vault/data/logical/6f43f084-32c3-0772-b503-2a39df5d80e9:\n",
      "total 4\n",
      "-rw------- 1 root root 505 Jul  2 00:17 _wrapped\n",
      "\u001b[?2004h"
     ]
    },
    {
     "ename": "",
     "evalue": "1",
     "output_type": "error",
     "traceback": []
    }
   ],
   "source": [
    "docker exec -i --user root hcvault sh -c \"ls -lrtR /home/vault/data/logical\""
   ]
  },
  {
   "cell_type": "markdown",
   "id": "cbebf28b-6bd9-4dbf-b05f-2ad204af9d2c",
   "metadata": {},
   "source": [
    "View the contents of the `unwrapped` file."
   ]
  },
  {
   "cell_type": "code",
   "execution_count": 64,
   "id": "f2da3b0b-eb2f-4293-a111-57534ca2b4c7",
   "metadata": {},
   "outputs": [
    {
     "name": "stdout",
     "output_type": "stream",
     "text": [
      "{\"Value\":\"AAAAAQJC/scotP6vQ0o85cIuf/vGUwqefLEC+SfrF1e9Kf6oo2S28SYK4P9fY/1hsAZB7r62zTdcFDB3209stg==\"}\n",
      "\u001b[?2004h"
     ]
    },
    {
     "ename": "",
     "evalue": "1",
     "output_type": "error",
     "traceback": []
    }
   ],
   "source": [
    "docker exec -i --user root hcvault sh -c 'for i in $(ls -rtR /home/vault/data/logical/*/_* | grep unwrap); do cat $i; done'"
   ]
  },
  {
   "cell_type": "markdown",
   "id": "3109f58d-c00d-4e14-9e54-5a4a50520ddb",
   "metadata": {},
   "source": [
    "View the contents of the `wrapped` file."
   ]
  },
  {
   "cell_type": "code",
   "execution_count": 67,
   "id": "f60af112-156e-41c8-a784-957d0a81d98e",
   "metadata": {},
   "outputs": [
    {
     "name": "stdout",
     "output_type": "stream",
     "text": [
      "{\"Value\":\"ClBFfmN1YQDKByXiPOKyJn/EUSxLUOAxeDQCkIq79uh0Km421gPFvXq8z4EbnFn3mQpdwPPIKDNRqS4miOACsUAIdz8mPrmNDbDxPdPsfyKLjxIM3EfcQnJqaoqE+cS7IAEqiwIIARoEbWFpbiqAAoABMchx2+c1up4tJu1c2Dq0Af8I6b+4XbDCSMUm6xeu7MYWSQ8xaHg5ovBts6bJV29UOoALOGzSbyvwbJwEeplz94WG8gf0j2gN9U27Chjgfu0hsExX1JwHXKvmhj7/VspTIgHp6xbRwzasgMs/uZtfl+ah/jZEmrN7TtutsnFhfTEzZnYdGM8EJk+qplxcvh0FEpqXOue0Eg846VfxeLTE1kZwcZoZBL+rrVNitUqlWZbmz0bCocfPDlOQHvB4/AXz1FV1jU+SHOheTlIr6JhWDp/5VOUnQZeKGK9ZrBofyt8jPCN1o+WIM4bVGHeCJoOKWSrJV2czYHs1oko5Fxtz\"}\n",
      "\u001b[?2004h"
     ]
    },
    {
     "ename": "",
     "evalue": "1",
     "output_type": "error",
     "traceback": []
    }
   ],
   "source": [
    "docker exec -i --user root hcvault sh -c 'for i in $(ls -rtR /home/vault/data/logical/*/_* | grep \"_wrap\"); do cat $i; done'"
   ]
  },
  {
   "cell_type": "markdown",
   "id": "467fdbb6-2fc9-4138-85fc-07f9d939c423",
   "metadata": {},
   "source": [
    "Secrets are encrypted regardless; however, the seal-wrapped value is significantly longer despite the fact that both values are the same, `my-long-password`."
   ]
  },
  {
   "cell_type": "markdown",
   "id": "5dda007c-1a24-4bce-8442-59c87e1d5d61",
   "metadata": {},
   "source": [
    "# Clean UP"
   ]
  },
  {
   "cell_type": "markdown",
   "id": "877222a6-5778-4d63-8c51-eeb9b948b189",
   "metadata": {},
   "source": [
    "# Resources\n",
    "\n",
    "* https://learn.hashicorp.com/tutorials/vault/seal-wrap\n",
    "* [SoftHSMv2 Debian Lab](https://hashicorp.atlassian.net/wiki/spaces/CSST/pages/65273946/SoftHSMv2+Debian+Lab)\n",
    "\n",
    "* [Vault Enterprise HSM Support](https://www.vaultproject.io/docs/enterprise/hsm/index.html)\n",
    "* [Vault Enterprise HSM Configuration](https://www.vaultproject.io/docs/enterprise/hsm/configuration.html)\n",
    "* [SoftHSM](https://www.opendnssec.org/softhsm/)\n",
    "* [SoftHSMv2 GitHub repository](https://github.com/opendnssec/SoftHSMv2)"
   ]
  }
 ],
 "metadata": {
  "kernelspec": {
   "display_name": "Bash",
   "language": "bash",
   "name": "bash"
  },
  "language_info": {
   "codemirror_mode": "shell",
   "file_extension": ".sh",
   "mimetype": "text/x-sh",
   "name": "bash"
  }
 },
 "nbformat": 4,
 "nbformat_minor": 5
}
