{
 "cells": [
  {
   "cell_type": "markdown",
   "metadata": {},
   "source": [
    "# Vault PoV - Database Engine - MariaDB Dynamic Credentials"
   ]
  },
  {
   "cell_type": "markdown",
   "metadata": {},
   "source": [
    "## Business Value of Capability\n",
    "\n",
    "We use dynamic secrets to allow applications to get dynamic creds to access databases.### Setup"
   ]
  },
  {
   "cell_type": "markdown",
   "metadata": {},
   "source": [
    "## Setup"
   ]
  },
  {
   "cell_type": "code",
   "execution_count": 1,
   "metadata": {},
   "outputs": [
    {
     "name": "stdout",
     "output_type": "stream",
     "text": [
      "\u001b[?2004h\u001b[?2004l\u001b[?2004l\u001b[?2004l"
     ]
    },
    {
     "ename": "",
     "evalue": "1",
     "output_type": "error",
     "traceback": []
    }
   ],
   "source": [
    "export VAULT_ADDR=http://127.0.0.1:8200\n",
    "export VAULT_TOKEN=root\n",
    "export VAULT_SKIP_VERIFY=true\n",
    "export DB_HOST=192.168.17.167 #or localhost"
   ]
  },
  {
   "cell_type": "markdown",
   "metadata": {},
   "source": [
    "### Start Vault Enterprise Server in Dev Mode"
   ]
  },
  {
   "cell_type": "code",
   "execution_count": 2,
   "metadata": {},
   "outputs": [
    {
     "name": "stdout",
     "output_type": "stream",
     "text": [
      "5286225dfe15985c0d98441ffa1ebbe3a824dd7722d63ca16caafe4c1649305a\n",
      "\u001b[?2004h"
     ]
    },
    {
     "ename": "",
     "evalue": "1",
     "output_type": "error",
     "traceback": []
    }
   ],
   "source": [
    "docker run --rm -d \\\n",
    "    --name vault \\\n",
    "    -p 8200:8200 \\\n",
    "    -e 'VAULT_DEV_ROOT_TOKEN_ID=root' \\\n",
    "    -e \"VAULT_ADDR=http://127.0.0.1:8200\" \\\n",
    "    hashicorp/vault-enterprise"
   ]
  },
  {
   "cell_type": "code",
   "execution_count": 3,
   "metadata": {},
   "outputs": [
    {
     "name": "stdout",
     "output_type": "stream",
     "text": [
      "\u001b[93mWARNING! The VAULT_TOKEN environment variable is set! This takes precedence\n",
      "over the value set by this command. To use the value set by this command,\n",
      "unset the VAULT_TOKEN environment variable or set it to the token displayed\n",
      "below.\n",
      "\u001b[0m\n",
      "\u001b[0mSuccess! You are now authenticated. The token information displayed below\n",
      "is already stored in the token helper. You do NOT need to run \"vault login\"\n",
      "again. Future Vault requests will automatically use this token.\n",
      "\u001b[0m\n",
      "\u001b[0mKey                  Value\n",
      "---                  -----\n",
      "token                root\n",
      "token_accessor       q0rCjTJwv1Oem4s2Rdj7VZ5M\n",
      "token_duration       ∞\n",
      "token_renewable      false\n",
      "token_policies       [\"root\"]\n",
      "identity_policies    []\n",
      "policies             [\"root\"]\u001b[0m\n",
      "\u001b[?2004h"
     ]
    },
    {
     "ename": "",
     "evalue": "1",
     "output_type": "error",
     "traceback": []
    }
   ],
   "source": [
    "vault login root"
   ]
  },
  {
   "cell_type": "code",
   "execution_count": 4,
   "metadata": {
    "collapsed": true,
    "jupyter": {
     "outputs_hidden": true
    },
    "tags": []
   },
   "outputs": [
    {
     "name": "stdout",
     "output_type": "stream",
     "text": [
      "\u001b[0mKey             Value\n",
      "---             -----\n",
      "Seal Type       shamir\n",
      "Initialized     true\n",
      "Sealed          false\n",
      "Total Shares    1\n",
      "Threshold       1\n",
      "Version         1.7.2+ent\n",
      "Storage Type    inmem\n",
      "Cluster Name    vault-cluster-f06cc205\n",
      "Cluster ID      66fe259c-305b-9b5d-dccb-46fa86d3bb6b\n",
      "HA Enabled      false\u001b[0m\n",
      "\u001b[?2004h"
     ]
    },
    {
     "ename": "",
     "evalue": "1",
     "output_type": "error",
     "traceback": []
    }
   ],
   "source": [
    "vault status"
   ]
  },
  {
   "cell_type": "code",
   "execution_count": null,
   "metadata": {},
   "outputs": [],
   "source": [
    "vault version"
   ]
  },
  {
   "cell_type": "markdown",
   "metadata": {},
   "source": [
    "### Start the database"
   ]
  },
  {
   "cell_type": "code",
   "execution_count": 8,
   "metadata": {},
   "outputs": [
    {
     "name": "stdout",
     "output_type": "stream",
     "text": [
      "b051792164ef75b7b37d405611e308b863735ad1c0ca0d795b6c21a3a80f40e7\u001b[?2004l\u001b[?2004l\u001b[?2004l\n",
      "\u001b[?2004h"
     ]
    },
    {
     "ename": "",
     "evalue": "1",
     "output_type": "error",
     "traceback": []
    }
   ],
   "source": [
    "# docker start mariadb\n",
    "docker run --rm -itd \\\n",
    "  --name=mariadb \\\n",
    "  -e PUID=1000 \\\n",
    "  -e PGID=1000 \\\n",
    "  -e MYSQL_ROOT_PASSWORD=password \\\n",
    "  -e TZ=America/New_York \\\n",
    "  -e MYSQL_DATABASE=vaultdemodb `#optional` \\\n",
    "  -e MYSQL_PASSWORD=password `#optional` \\\n",
    "  -p 3306:3306 \\\n",
    "  linuxserver/mariadb"
   ]
  },
  {
   "cell_type": "markdown",
   "metadata": {},
   "source": [
    "Create db user for Vault."
   ]
  },
  {
   "cell_type": "code",
   "execution_count": 5,
   "metadata": {},
   "outputs": [
    {
     "name": "stdout",
     "output_type": "stream",
     "text": [
      "\u001b[?2004h\u001b[?2004l\u001b[?2004l\u001b[?2004l\u001b[?2004l"
     ]
    },
    {
     "ename": "",
     "evalue": "1",
     "output_type": "error",
     "traceback": []
    }
   ],
   "source": [
    "docker exec -it mariadb /bin/bash -c \"\n",
    "mysql -u root -ppassword << EOF\n",
    "GRANT ALL PRIVILEGES ON *.* TO 'vaultadmin'@'%' IDENTIFIED BY 'vadmin' WITH GRANT OPTION;\n",
    "FLUSH PRIVILEGES;\n",
    "EOF\""
   ]
  },
  {
   "cell_type": "markdown",
   "metadata": {},
   "source": [
    "## Demo\n",
    "---"
   ]
  },
  {
   "cell_type": "markdown",
   "metadata": {},
   "source": [
    "**Display existing database users**"
   ]
  },
  {
   "cell_type": "code",
   "execution_count": 6,
   "metadata": {},
   "outputs": [
    {
     "name": "stdout",
     "output_type": "stream",
     "text": [
      "+-------------+\n",
      "| User        |\n",
      "+-------------+\n",
      "| root        |\n",
      "| vaultadmin  |\n",
      "| mariadb.sys |\n",
      "+-------------+\n",
      "\u001b[?2004h"
     ]
    },
    {
     "ename": "",
     "evalue": "1",
     "output_type": "error",
     "traceback": []
    }
   ],
   "source": [
    "docker exec -it mariadb mysql -u vaultadmin -p'vadmin' -e \"select user from mysql.user;\""
   ]
  },
  {
   "cell_type": "markdown",
   "metadata": {},
   "source": [
    "### Enable Vault database secrets engine"
   ]
  },
  {
   "cell_type": "code",
   "execution_count": 7,
   "metadata": {},
   "outputs": [
    {
     "name": "stdout",
     "output_type": "stream",
     "text": [
      "\u001b[0mSuccess! Enabled the database secrets engine at: mdb1/\u001b[0m\n",
      "\u001b[?2004h"
     ]
    },
    {
     "ename": "",
     "evalue": "1",
     "output_type": "error",
     "traceback": []
    }
   ],
   "source": [
    "vault secrets enable -path=mdb1 database"
   ]
  },
  {
   "cell_type": "markdown",
   "metadata": {},
   "source": [
    "Confirm secrets engine has been enabled."
   ]
  },
  {
   "cell_type": "code",
   "execution_count": 8,
   "metadata": {},
   "outputs": [
    {
     "name": "stdout",
     "output_type": "stream",
     "text": [
      "\u001b[0mPath          Type         Accessor              Description\n",
      "----          ----         --------              -----------\n",
      "cubbyhole/    cubbyhole    cubbyhole_386ad115    per-token private secret storage\n",
      "identity/     identity     identity_8e33e8ff     identity store\n",
      "mdb1/         database     database_9c7dbff6     n/a\n",
      "secret/       kv           kv_d10f81c8           key/value secret storage\n",
      "sys/          system       system_b9d93945       system endpoints used for control, policy and debugging\u001b[0m\n",
      "\u001b[?2004h"
     ]
    },
    {
     "ename": "",
     "evalue": "1",
     "output_type": "error",
     "traceback": []
    }
   ],
   "source": [
    "vault secrets list"
   ]
  },
  {
   "cell_type": "markdown",
   "metadata": {},
   "source": [
    "### Configure the Database Secrets Engine\n",
    "\n",
    "**Configure MySQL secrets for the databases secrets engine**"
   ]
  },
  {
   "cell_type": "code",
   "execution_count": 9,
   "metadata": {},
   "outputs": [
    {
     "name": "stdout",
     "output_type": "stream",
     "text": [
      "\u001b[?2004h\u001b[?2004l\u001b[?2004l\u001b[?2004l\u001b[?2004l\u001b[?2004l"
     ]
    },
    {
     "ename": "",
     "evalue": "1",
     "output_type": "error",
     "traceback": []
    }
   ],
   "source": [
    "vault write mdb1/config/mysql \\\n",
    "    plugin_name=mysql-legacy-database-plugin \\\n",
    "    connection_url=\"{{username}}:{{password}}@tcp(${DB_HOST}:3306)/\" \\\n",
    "    allowed_roles=\"readonly\",\"readonly-long\",\"readonly-short\" \\\n",
    "    username=\"vaultadmin\" \\\n",
    "    password=\"vadmin\""
   ]
  },
  {
   "cell_type": "markdown",
   "metadata": {},
   "source": [
    "NOTE: The username and password are templated in the \"`connection_url`\" string. They get their values from the \"`username`\" and \"`password`\" fields.  We do this so that reading the path \"mdb1/config/mysql\" will not show them.\n",
    "\n",
    "(optional) Verify that you cannot see the password."
   ]
  },
  {
   "cell_type": "code",
   "execution_count": 10,
   "metadata": {},
   "outputs": [
    {
     "name": "stdout",
     "output_type": "stream",
     "text": [
      "\u001b[0mKey                                   Value\n",
      "---                                   -----\n",
      "allowed_roles                         [readonly readonly-long readonly-short]\n",
      "connection_details                    map[connection_url:{{username}}:{{password}}@tcp(192.168.17.167:3306)/ username:vaultadmin]\n",
      "password_policy                       n/a\n",
      "plugin_name                           mysql-legacy-database-plugin\n",
      "root_credentials_rotate_statements    []\u001b[0m\n",
      "\u001b[?2004h"
     ]
    },
    {
     "ename": "",
     "evalue": "1",
     "output_type": "error",
     "traceback": []
    }
   ],
   "source": [
    "#optional verification\n",
    "vault read mdb1/config/mysql"
   ]
  },
  {
   "cell_type": "markdown",
   "metadata": {},
   "source": [
    "### (optional) Rotate root credentials\n",
    "\n",
    "We can make the configuration of the database secrets engine even more secure by rotating the root credentials (actually just the password) that we passed into the configuration.  We do this by running this command:"
   ]
  },
  {
   "cell_type": "code",
   "execution_count": null,
   "metadata": {},
   "outputs": [],
   "source": [
    "#vault write -force mdb1/rotate-root/mysql"
   ]
  },
  {
   "cell_type": "markdown",
   "metadata": {},
   "source": [
    "### Create DB roles\n",
    "\n",
    "**Create a Vault role so applications can access credentials**. Lease of 1 hour. Renewable for 24 hours."
   ]
  },
  {
   "cell_type": "code",
   "execution_count": 11,
   "metadata": {},
   "outputs": [
    {
     "name": "stdout",
     "output_type": "stream",
     "text": [
      "\u001b[0mSuccess! Data written to: mdb1/roles/readonly-long\u001b[0m\n",
      "\u001b[?2004h"
     ]
    },
    {
     "ename": "",
     "evalue": "1",
     "output_type": "error",
     "traceback": []
    }
   ],
   "source": [
    "vault write mdb1/roles/readonly-long \\\n",
    "    db_name=mysql \\\n",
    "    creation_statements=\"CREATE USER '{{name}}'@'%' IDENTIFIED BY '{{password}}';GRANT SELECT ON *.* TO '{{name}}'@'%';\" \\\n",
    "    default_ttl=\"1h\" \\\n",
    "    max_ttl=\"24h\""
   ]
  },
  {
   "cell_type": "markdown",
   "metadata": {},
   "source": [
    "**Create a Vault role so applications can access credentials**\n",
    "Lease of 3 minutes. Renewable for 6 minutes."
   ]
  },
  {
   "cell_type": "code",
   "execution_count": 12,
   "metadata": {},
   "outputs": [
    {
     "name": "stdout",
     "output_type": "stream",
     "text": [
      "\u001b[0mSuccess! Data written to: mdb1/roles/readonly-short\u001b[0m\n",
      "\u001b[?2004h"
     ]
    },
    {
     "ename": "",
     "evalue": "1",
     "output_type": "error",
     "traceback": []
    }
   ],
   "source": [
    "vault write mdb1/roles/readonly-short \\\n",
    "    db_name=mysql \\\n",
    "    creation_statements=\"CREATE USER '{{name}}'@'%' IDENTIFIED BY '{{password}}';GRANT SELECT ON *.* TO '{{name}}'@'%';\" \\\n",
    "    default_ttl=\"3m\" \\\n",
    "    max_ttl=\"6m\""
   ]
  },
  {
   "cell_type": "markdown",
   "metadata": {},
   "source": [
    "### Generate Dynamic Database Credentials\n",
    "**Request Vault credentials by reading from the role**"
   ]
  },
  {
   "cell_type": "code",
   "execution_count": 13,
   "metadata": {},
   "outputs": [
    {
     "name": "stdout",
     "output_type": "stream",
     "text": [
      "\u001b[0mKey                Value\n",
      "---                -----\n",
      "lease_id           mdb1/creds/readonly-long/Y54cSkbg0Beg4eUxyO945mWd\n",
      "lease_duration     1h\n",
      "lease_renewable    true\n",
      "password           0ixoR0gN-R9IZwXtrCCh\n",
      "username           v-read-g0HgkQPU7\u001b[0m\n",
      "\u001b[?2004h"
     ]
    },
    {
     "ename": "",
     "evalue": "1",
     "output_type": "error",
     "traceback": []
    }
   ],
   "source": [
    "vault read mdb1/creds/readonly-long"
   ]
  },
  {
   "cell_type": "markdown",
   "metadata": {},
   "source": [
    "Now generate credentials for the role, \"readonly-short\", using a `curl` call against the Vault HTTP API and pipe the results to `jq` to make the JSON returned by the API easier to read:"
   ]
  },
  {
   "cell_type": "code",
   "execution_count": 14,
   "metadata": {},
   "outputs": [
    {
     "name": "stdout",
     "output_type": "stream",
     "text": [
      "{[?2004l\n",
      "  \"request_id\": \"92d4255d-c60d-ac65-9ab6-401a5c33e29e\",\n",
      "  \"lease_id\": \"mdb1/creds/readonly-short/PAIhQa3a7GYqFZcyjCiwR5zW\",\n",
      "  \"renewable\": true,\n",
      "  \"lease_duration\": 180,\n",
      "  \"data\": {\n",
      "    \"password\": \"lDqVTY9Vl-qJK-AQ657X\",\n",
      "    \"username\": \"v-read-icVfUOIJp\"\n",
      "  },\n",
      "  \"wrap_info\": null,\n",
      "  \"warnings\": null,\n",
      "  \"auth\": null\n",
      "}\n",
      "\u001b[?2004h"
     ]
    },
    {
     "ename": "",
     "evalue": "1",
     "output_type": "error",
     "traceback": []
    }
   ],
   "source": [
    "curl -s -H \"X-Vault-Token: root\" \"http://localhost:8200/v1/mdb1/creds/readonly-short\" | jq | tee /tmp/readonly-short.creds"
   ]
  },
  {
   "cell_type": "markdown",
   "metadata": {},
   "source": [
    "In these results, you see several thinggs:\n",
    "* `lease_id` - used if you want to renew or revoke the credentials (as you will do in the next challenge).\n",
    "* `username` and `password` - used to connect to the database.\n",
    "* `renewable` - has the value `true`, indicating that the lifetime of the credentials can be extended using Vault's `sys/leases/renew` API endpoint."
   ]
  },
  {
   "cell_type": "markdown",
   "metadata": {},
   "source": [
    "Use the last set of credentials to connect to the local MySQL server with a command like this. Verify that you can see the databases on the MySQL server."
   ]
  },
  {
   "cell_type": "code",
   "execution_count": 15,
   "metadata": {},
   "outputs": [
    {
     "name": "stdout",
     "output_type": "stream",
     "text": [
      "+--------------------+4l\n",
      "| Database           |\n",
      "+--------------------+\n",
      "| information_schema |\n",
      "| mysql              |\n",
      "| performance_schema |\n",
      "+--------------------+\n",
      "\u001b[?2004h"
     ]
    },
    {
     "ename": "",
     "evalue": "1",
     "output_type": "error",
     "traceback": []
    }
   ],
   "source": [
    "DB_USERNAME=$(jq -r .data.username /tmp/readonly-short.creds)\n",
    "DB_PASSWORD=$(jq -r .data.password /tmp/readonly-short.creds)\n",
    "docker exec -it mariadb mysql -u ${DB_USERNAME} -p${DB_PASSWORD} -e \"show databases;\""
   ]
  },
  {
   "cell_type": "markdown",
   "metadata": {},
   "source": [
    "**Display database users** (note new users added by Vault)"
   ]
  },
  {
   "cell_type": "code",
   "execution_count": 90,
   "metadata": {},
   "outputs": [
    {
     "name": "stdout",
     "output_type": "stream",
     "text": [
      "+------------------+\n",
      "| User             |\n",
      "+------------------+\n",
      "| root             |\n",
      "| v-read-J6TfRy4lE |\n",
      "| v-read-lO8h5WAmk |\n",
      "| vaultadmin       |\n",
      "| mariadb.sys      |\n",
      "+------------------+\n",
      "\u001b[?2004h"
     ]
    },
    {
     "ename": "",
     "evalue": "1",
     "output_type": "error",
     "traceback": []
    }
   ],
   "source": [
    "docker exec -it mariadb mysql -u vaultadmin -p'vadmin' -e \"select user from mysql.user;\""
   ]
  },
  {
   "cell_type": "markdown",
   "metadata": {},
   "source": [
    "**List the Vault leases for readonly-short role**"
   ]
  },
  {
   "cell_type": "code",
   "execution_count": 91,
   "metadata": {},
   "outputs": [
    {
     "name": "stdout",
     "output_type": "stream",
     "text": [
      "\u001b[0mKeys\n",
      "----\n",
      "mXWNfi8w8bG3cRgOk9y6PZTd\u001b[0m\n",
      "\u001b[?2004h"
     ]
    },
    {
     "ename": "",
     "evalue": "1",
     "output_type": "error",
     "traceback": []
    }
   ],
   "source": [
    "vault list sys/leases/lookup/mdb1/creds/readonly-short"
   ]
  },
  {
   "cell_type": "markdown",
   "metadata": {},
   "source": [
    "**Details on a lease** COPY LEASE ID ABOVE TO REPLACE END OF THIS LINE "
   ]
  },
  {
   "cell_type": "code",
   "execution_count": 92,
   "metadata": {},
   "outputs": [
    {
     "name": "stdout",
     "output_type": "stream",
     "text": [
      "\u001b[0mKey             Value\n",
      "---             -----\n",
      "expire_time     2021-05-27T00:49:06.862369488Z\n",
      "id              mdb1/creds/readonly-short/mXWNfi8w8bG3cRgOk9y6PZTd\n",
      "issue_time      2021-05-27T00:46:06.862369223Z\n",
      "last_renewal    <nil>\n",
      "renewable       true\n",
      "ttl             1m55s\u001b[0m\n",
      "\u001b[?2004h"
     ]
    },
    {
     "ename": "",
     "evalue": "1",
     "output_type": "error",
     "traceback": []
    }
   ],
   "source": [
    "vault write sys/leases/lookup lease_id=mdb1/creds/readonly-short/mXWNfi8w8bG3cRgOk9y6PZTd"
   ]
  },
  {
   "cell_type": "code",
   "execution_count": 93,
   "metadata": {},
   "outputs": [
    {
     "name": "stdout",
     "output_type": "stream",
     "text": [
      "\u001b[0mKeys\n",
      "----\n",
      "mXWNfi8w8bG3cRgOk9y6PZTd\u001b[0m\n",
      "\u001b[?2004h"
     ]
    },
    {
     "ename": "",
     "evalue": "1",
     "output_type": "error",
     "traceback": []
    }
   ],
   "source": [
    "vault list sys/leases/lookup/mdb1/creds/readonly-short/"
   ]
  },
  {
   "cell_type": "markdown",
   "metadata": {},
   "source": [
    "### Renew and Revoke Database Credentials\n",
    "\n",
    "In addition to using Vault's database secrets engine to generate credentials for databases, you can also use it to extend their lifetime or revoke them."
   ]
  },
  {
   "cell_type": "markdown",
   "metadata": {},
   "source": [
    "Generate new credentials against the readonly-short role."
   ]
  },
  {
   "cell_type": "code",
   "execution_count": 94,
   "metadata": {},
   "outputs": [
    {
     "name": "stdout",
     "output_type": "stream",
     "text": [
      "\u001b[0mKey                Value\n",
      "---                -----\n",
      "lease_id           mdb1/creds/readonly-short/HrRi55Tos1ZZq27UFe1fuRCn\n",
      "lease_duration     3m\n",
      "lease_renewable    true\n",
      "password           y0JgFewYYcG-HcM6TBZL\n",
      "username           v-read-6scupkHX5\u001b[0m\n",
      "\u001b[?2004h"
     ]
    },
    {
     "ename": "",
     "evalue": "1",
     "output_type": "error",
     "traceback": []
    }
   ],
   "source": [
    "vault read mdb1/creds/readonly-short"
   ]
  },
  {
   "cell_type": "markdown",
   "metadata": {},
   "source": [
    "Renew lease with a command like this. We are setting the life of the credentials to 2 minutes."
   ]
  },
  {
   "cell_type": "code",
   "execution_count": 96,
   "metadata": {},
   "outputs": [
    {
     "name": "stdout",
     "output_type": "stream",
     "text": [
      "\u001b[0mKey                Value\n",
      "---                -----\n",
      "lease_id           mdb1/creds/readonly-short/HrRi55Tos1ZZq27UFe1fuRCn\n",
      "lease_duration     2m\n",
      "lease_renewable    true\u001b[0m\n",
      "\u001b[?2004h"
     ]
    },
    {
     "ename": "",
     "evalue": "1",
     "output_type": "error",
     "traceback": []
    }
   ],
   "source": [
    "vault write sys/leases/renew lease_id=mdb1/creds/readonly-short/HrRi55Tos1ZZq27UFe1fuRCn increment=\"120\""
   ]
  },
  {
   "cell_type": "markdown",
   "metadata": {},
   "source": [
    "The `ttl` will tell you the remaining time to live of the lease and the credentials. When the lease expires, Vault will delete the credentials from MySQL.\n",
    "\n",
    "Extending the lease will only work if the lease has not yet expired. Additionally, the lease on the credentials cannot be extended beyond the original time of their creation plus the duration given by the `max_ttl` parameter of the role.  If either of these conditions apply, you will get an error.\n",
    "\n",
    "For instance, if you try to lookup a lease that has already expired, you will get an `invalid lease` error. If you try to extend the lease with an increment of 600 seconds (10 minutes), you will see an error like:\n",
    "\n",
    "```\n",
    "WARNING! The following warnings were returned from Vault:\n",
    "    * TTL of \"10m0s\" exceeded the effective max_ttl of \"2m17s\";\n",
    "    TTL value is capped accordingly\n",
    "```"
   ]
  },
  {
   "cell_type": "markdown",
   "metadata": {},
   "source": [
    "**Revoke a specific Vault lease**"
   ]
  },
  {
   "cell_type": "code",
   "execution_count": 97,
   "metadata": {},
   "outputs": [
    {
     "name": "stdout",
     "output_type": "stream",
     "text": [
      "\u001b[0mAll revocation operations queued successfully!\u001b[0m\n",
      "\u001b[?2004h"
     ]
    },
    {
     "ename": "",
     "evalue": "1",
     "output_type": "error",
     "traceback": []
    }
   ],
   "source": [
    "vault lease revoke mdb1/creds/readonly-short/HrRi55Tos1ZZq27UFe1fuRCn"
   ]
  },
  {
   "cell_type": "markdown",
   "metadata": {},
   "source": [
    "**Revoke all Vault leases for a specific role**"
   ]
  },
  {
   "cell_type": "code",
   "execution_count": 98,
   "metadata": {},
   "outputs": [
    {
     "name": "stdout",
     "output_type": "stream",
     "text": [
      "\u001b[0mAll revocation operations queued successfully!\u001b[0m\n",
      "\u001b[?2004h"
     ]
    },
    {
     "ename": "",
     "evalue": "1",
     "output_type": "error",
     "traceback": []
    }
   ],
   "source": [
    "vault lease revoke -prefix=true mdb1/creds/readonly-short"
   ]
  },
  {
   "cell_type": "code",
   "execution_count": null,
   "metadata": {},
   "outputs": [],
   "source": [
    "Congratulations on finishing the Vault Dynamic Database Credentials track."
   ]
  },
  {
   "cell_type": "markdown",
   "metadata": {},
   "source": [
    "### Cleanup"
   ]
  },
  {
   "cell_type": "code",
   "execution_count": 99,
   "metadata": {},
   "outputs": [
    {
     "name": "stdout",
     "output_type": "stream",
     "text": [
      "\u001b[0mSuccess! Disabled the secrets engine (if it existed) at: mdb1/\u001b[0m\n",
      "\u001b[?2004h"
     ]
    },
    {
     "ename": "",
     "evalue": "1",
     "output_type": "error",
     "traceback": []
    }
   ],
   "source": [
    "vault secrets disable mdb1"
   ]
  },
  {
   "cell_type": "markdown",
   "metadata": {},
   "source": [
    "**Shutdown Docker**"
   ]
  },
  {
   "cell_type": "code",
   "execution_count": 103,
   "metadata": {},
   "outputs": [
    {
     "name": "stdout",
     "output_type": "stream",
     "text": [
      "Error response from daemon: No such container: mariadb\n",
      "Error response from daemon: No such container: vault\n",
      "\u001b[?2004h"
     ]
    },
    {
     "ename": "",
     "evalue": "1",
     "output_type": "error",
     "traceback": []
    }
   ],
   "source": [
    "docker stop mariadb vault"
   ]
  },
  {
   "cell_type": "markdown",
   "metadata": {},
   "source": [
    "**Remove the container**"
   ]
  },
  {
   "cell_type": "code",
   "execution_count": 102,
   "metadata": {},
   "outputs": [
    {
     "name": "stdout",
     "output_type": "stream",
     "text": [
      "Error: No such container: mariadb\n",
      "Error: No such container: vault\n",
      "\u001b[?2004h"
     ]
    },
    {
     "ename": "",
     "evalue": "1",
     "output_type": "error",
     "traceback": []
    }
   ],
   "source": [
    "docker rm mariadb vault"
   ]
  },
  {
   "cell_type": "markdown",
   "metadata": {},
   "source": [
    "**END**"
   ]
  }
 ],
 "metadata": {
  "kernelspec": {
   "display_name": "Bash",
   "language": "bash",
   "name": "bash"
  },
  "language_info": {
   "codemirror_mode": "shell",
   "file_extension": ".sh",
   "mimetype": "text/x-sh",
   "name": "bash"
  }
 },
 "nbformat": 4,
 "nbformat_minor": 4
}
